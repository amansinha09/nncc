{
  "metadata": {
    "kernelspec": {
      "language": "python",
      "display_name": "Python 3",
      "name": "python3"
    },
    "language_info": {
      "name": "python",
      "version": "3.7.12",
      "mimetype": "text/x-python",
      "codemirror_mode": {
        "name": "ipython",
        "version": 3
      },
      "pygments_lexer": "ipython3",
      "nbconvert_exporter": "python",
      "file_extension": ".py"
    },
    "colab": {
      "name": "notebookf9ad3dde15 (3).ipynb",
      "provenance": [],
      "toc_visible": true
    },
    "accelerator": "GPU",
    "widgets": {
      "application/vnd.jupyter.widget-state+json": {
        "0ccd2d9e75474d88a01d001f6b49c820": {
          "model_module": "@jupyter-widgets/controls",
          "model_name": "HBoxModel",
          "model_module_version": "1.5.0",
          "state": {
            "_dom_classes": [],
            "_model_module": "@jupyter-widgets/controls",
            "_model_module_version": "1.5.0",
            "_model_name": "HBoxModel",
            "_view_count": null,
            "_view_module": "@jupyter-widgets/controls",
            "_view_module_version": "1.5.0",
            "_view_name": "HBoxView",
            "box_style": "",
            "children": [
              "IPY_MODEL_3f8591674a3b4e34839d599f7aebaf5c",
              "IPY_MODEL_7d241e4928e44d039902860478c0281a",
              "IPY_MODEL_426443d6654548159223e51e1f08921d"
            ],
            "layout": "IPY_MODEL_4a5308f9e35a42558d2b5c3f648b1aae"
          }
        },
        "3f8591674a3b4e34839d599f7aebaf5c": {
          "model_module": "@jupyter-widgets/controls",
          "model_name": "HTMLModel",
          "model_module_version": "1.5.0",
          "state": {
            "_dom_classes": [],
            "_model_module": "@jupyter-widgets/controls",
            "_model_module_version": "1.5.0",
            "_model_name": "HTMLModel",
            "_view_count": null,
            "_view_module": "@jupyter-widgets/controls",
            "_view_module_version": "1.5.0",
            "_view_name": "HTMLView",
            "description": "",
            "description_tooltip": null,
            "layout": "IPY_MODEL_f64f8f2e7f5a4fe9b0e6d2616d645351",
            "placeholder": "​",
            "style": "IPY_MODEL_0b5cd92692e24a0ebf58f768b23add5d",
            "value": "Downloading: 100%"
          }
        },
        "7d241e4928e44d039902860478c0281a": {
          "model_module": "@jupyter-widgets/controls",
          "model_name": "FloatProgressModel",
          "model_module_version": "1.5.0",
          "state": {
            "_dom_classes": [],
            "_model_module": "@jupyter-widgets/controls",
            "_model_module_version": "1.5.0",
            "_model_name": "FloatProgressModel",
            "_view_count": null,
            "_view_module": "@jupyter-widgets/controls",
            "_view_module_version": "1.5.0",
            "_view_name": "ProgressView",
            "bar_style": "success",
            "description": "",
            "description_tooltip": null,
            "layout": "IPY_MODEL_75ac8a7384604c85b9fae8fd89ffc70e",
            "max": 385,
            "min": 0,
            "orientation": "horizontal",
            "style": "IPY_MODEL_4d3fe43f36b34c63a39514f3024f6446",
            "value": 385
          }
        },
        "426443d6654548159223e51e1f08921d": {
          "model_module": "@jupyter-widgets/controls",
          "model_name": "HTMLModel",
          "model_module_version": "1.5.0",
          "state": {
            "_dom_classes": [],
            "_model_module": "@jupyter-widgets/controls",
            "_model_module_version": "1.5.0",
            "_model_name": "HTMLModel",
            "_view_count": null,
            "_view_module": "@jupyter-widgets/controls",
            "_view_module_version": "1.5.0",
            "_view_name": "HTMLView",
            "description": "",
            "description_tooltip": null,
            "layout": "IPY_MODEL_8c33e44885854f00bb19e594ba56a171",
            "placeholder": "​",
            "style": "IPY_MODEL_c6985ac657854e3a8a00470163c1edb5",
            "value": " 385/385 [00:00&lt;00:00, 2.51kB/s]"
          }
        },
        "4a5308f9e35a42558d2b5c3f648b1aae": {
          "model_module": "@jupyter-widgets/base",
          "model_name": "LayoutModel",
          "model_module_version": "1.2.0",
          "state": {
            "_model_module": "@jupyter-widgets/base",
            "_model_module_version": "1.2.0",
            "_model_name": "LayoutModel",
            "_view_count": null,
            "_view_module": "@jupyter-widgets/base",
            "_view_module_version": "1.2.0",
            "_view_name": "LayoutView",
            "align_content": null,
            "align_items": null,
            "align_self": null,
            "border": null,
            "bottom": null,
            "display": null,
            "flex": null,
            "flex_flow": null,
            "grid_area": null,
            "grid_auto_columns": null,
            "grid_auto_flow": null,
            "grid_auto_rows": null,
            "grid_column": null,
            "grid_gap": null,
            "grid_row": null,
            "grid_template_areas": null,
            "grid_template_columns": null,
            "grid_template_rows": null,
            "height": null,
            "justify_content": null,
            "justify_items": null,
            "left": null,
            "margin": null,
            "max_height": null,
            "max_width": null,
            "min_height": null,
            "min_width": null,
            "object_fit": null,
            "object_position": null,
            "order": null,
            "overflow": null,
            "overflow_x": null,
            "overflow_y": null,
            "padding": null,
            "right": null,
            "top": null,
            "visibility": null,
            "width": null
          }
        },
        "f64f8f2e7f5a4fe9b0e6d2616d645351": {
          "model_module": "@jupyter-widgets/base",
          "model_name": "LayoutModel",
          "model_module_version": "1.2.0",
          "state": {
            "_model_module": "@jupyter-widgets/base",
            "_model_module_version": "1.2.0",
            "_model_name": "LayoutModel",
            "_view_count": null,
            "_view_module": "@jupyter-widgets/base",
            "_view_module_version": "1.2.0",
            "_view_name": "LayoutView",
            "align_content": null,
            "align_items": null,
            "align_self": null,
            "border": null,
            "bottom": null,
            "display": null,
            "flex": null,
            "flex_flow": null,
            "grid_area": null,
            "grid_auto_columns": null,
            "grid_auto_flow": null,
            "grid_auto_rows": null,
            "grid_column": null,
            "grid_gap": null,
            "grid_row": null,
            "grid_template_areas": null,
            "grid_template_columns": null,
            "grid_template_rows": null,
            "height": null,
            "justify_content": null,
            "justify_items": null,
            "left": null,
            "margin": null,
            "max_height": null,
            "max_width": null,
            "min_height": null,
            "min_width": null,
            "object_fit": null,
            "object_position": null,
            "order": null,
            "overflow": null,
            "overflow_x": null,
            "overflow_y": null,
            "padding": null,
            "right": null,
            "top": null,
            "visibility": null,
            "width": null
          }
        },
        "0b5cd92692e24a0ebf58f768b23add5d": {
          "model_module": "@jupyter-widgets/controls",
          "model_name": "DescriptionStyleModel",
          "model_module_version": "1.5.0",
          "state": {
            "_model_module": "@jupyter-widgets/controls",
            "_model_module_version": "1.5.0",
            "_model_name": "DescriptionStyleModel",
            "_view_count": null,
            "_view_module": "@jupyter-widgets/base",
            "_view_module_version": "1.2.0",
            "_view_name": "StyleView",
            "description_width": ""
          }
        },
        "75ac8a7384604c85b9fae8fd89ffc70e": {
          "model_module": "@jupyter-widgets/base",
          "model_name": "LayoutModel",
          "model_module_version": "1.2.0",
          "state": {
            "_model_module": "@jupyter-widgets/base",
            "_model_module_version": "1.2.0",
            "_model_name": "LayoutModel",
            "_view_count": null,
            "_view_module": "@jupyter-widgets/base",
            "_view_module_version": "1.2.0",
            "_view_name": "LayoutView",
            "align_content": null,
            "align_items": null,
            "align_self": null,
            "border": null,
            "bottom": null,
            "display": null,
            "flex": null,
            "flex_flow": null,
            "grid_area": null,
            "grid_auto_columns": null,
            "grid_auto_flow": null,
            "grid_auto_rows": null,
            "grid_column": null,
            "grid_gap": null,
            "grid_row": null,
            "grid_template_areas": null,
            "grid_template_columns": null,
            "grid_template_rows": null,
            "height": null,
            "justify_content": null,
            "justify_items": null,
            "left": null,
            "margin": null,
            "max_height": null,
            "max_width": null,
            "min_height": null,
            "min_width": null,
            "object_fit": null,
            "object_position": null,
            "order": null,
            "overflow": null,
            "overflow_x": null,
            "overflow_y": null,
            "padding": null,
            "right": null,
            "top": null,
            "visibility": null,
            "width": null
          }
        },
        "4d3fe43f36b34c63a39514f3024f6446": {
          "model_module": "@jupyter-widgets/controls",
          "model_name": "ProgressStyleModel",
          "model_module_version": "1.5.0",
          "state": {
            "_model_module": "@jupyter-widgets/controls",
            "_model_module_version": "1.5.0",
            "_model_name": "ProgressStyleModel",
            "_view_count": null,
            "_view_module": "@jupyter-widgets/base",
            "_view_module_version": "1.2.0",
            "_view_name": "StyleView",
            "bar_color": null,
            "description_width": ""
          }
        },
        "8c33e44885854f00bb19e594ba56a171": {
          "model_module": "@jupyter-widgets/base",
          "model_name": "LayoutModel",
          "model_module_version": "1.2.0",
          "state": {
            "_model_module": "@jupyter-widgets/base",
            "_model_module_version": "1.2.0",
            "_model_name": "LayoutModel",
            "_view_count": null,
            "_view_module": "@jupyter-widgets/base",
            "_view_module_version": "1.2.0",
            "_view_name": "LayoutView",
            "align_content": null,
            "align_items": null,
            "align_self": null,
            "border": null,
            "bottom": null,
            "display": null,
            "flex": null,
            "flex_flow": null,
            "grid_area": null,
            "grid_auto_columns": null,
            "grid_auto_flow": null,
            "grid_auto_rows": null,
            "grid_column": null,
            "grid_gap": null,
            "grid_row": null,
            "grid_template_areas": null,
            "grid_template_columns": null,
            "grid_template_rows": null,
            "height": null,
            "justify_content": null,
            "justify_items": null,
            "left": null,
            "margin": null,
            "max_height": null,
            "max_width": null,
            "min_height": null,
            "min_width": null,
            "object_fit": null,
            "object_position": null,
            "order": null,
            "overflow": null,
            "overflow_x": null,
            "overflow_y": null,
            "padding": null,
            "right": null,
            "top": null,
            "visibility": null,
            "width": null
          }
        },
        "c6985ac657854e3a8a00470163c1edb5": {
          "model_module": "@jupyter-widgets/controls",
          "model_name": "DescriptionStyleModel",
          "model_module_version": "1.5.0",
          "state": {
            "_model_module": "@jupyter-widgets/controls",
            "_model_module_version": "1.5.0",
            "_model_name": "DescriptionStyleModel",
            "_view_count": null,
            "_view_module": "@jupyter-widgets/base",
            "_view_module_version": "1.2.0",
            "_view_name": "StyleView",
            "description_width": ""
          }
        },
        "0f196f1afb304198af33099e1f34a8d1": {
          "model_module": "@jupyter-widgets/controls",
          "model_name": "HBoxModel",
          "model_module_version": "1.5.0",
          "state": {
            "_dom_classes": [],
            "_model_module": "@jupyter-widgets/controls",
            "_model_module_version": "1.5.0",
            "_model_name": "HBoxModel",
            "_view_count": null,
            "_view_module": "@jupyter-widgets/controls",
            "_view_module_version": "1.5.0",
            "_view_name": "HBoxView",
            "box_style": "",
            "children": [
              "IPY_MODEL_714e2d3399d744e988f7a99b0456a5e4",
              "IPY_MODEL_31a1bf30e77f4ac5a6866ac422931bd9",
              "IPY_MODEL_c39c893d48374eaa9c6cbea4a9e15eed"
            ],
            "layout": "IPY_MODEL_5799287d33a047ce87d0df5b78d71fef"
          }
        },
        "714e2d3399d744e988f7a99b0456a5e4": {
          "model_module": "@jupyter-widgets/controls",
          "model_name": "HTMLModel",
          "model_module_version": "1.5.0",
          "state": {
            "_dom_classes": [],
            "_model_module": "@jupyter-widgets/controls",
            "_model_module_version": "1.5.0",
            "_model_name": "HTMLModel",
            "_view_count": null,
            "_view_module": "@jupyter-widgets/controls",
            "_view_module_version": "1.5.0",
            "_view_name": "HTMLView",
            "description": "",
            "description_tooltip": null,
            "layout": "IPY_MODEL_f87d2ea688e741dea9e87d4a62d93064",
            "placeholder": "​",
            "style": "IPY_MODEL_5090a6a5b9c54458a1fa4dba10b0087f",
            "value": "Downloading: 100%"
          }
        },
        "31a1bf30e77f4ac5a6866ac422931bd9": {
          "model_module": "@jupyter-widgets/controls",
          "model_name": "FloatProgressModel",
          "model_module_version": "1.5.0",
          "state": {
            "_dom_classes": [],
            "_model_module": "@jupyter-widgets/controls",
            "_model_module_version": "1.5.0",
            "_model_name": "FloatProgressModel",
            "_view_count": null,
            "_view_module": "@jupyter-widgets/controls",
            "_view_module_version": "1.5.0",
            "_view_name": "ProgressView",
            "bar_style": "success",
            "description": "",
            "description_tooltip": null,
            "layout": "IPY_MODEL_9214707f582c4a03b5365fc77819c10d",
            "max": 213450,
            "min": 0,
            "orientation": "horizontal",
            "style": "IPY_MODEL_7f51d71955234c7a989a1393eefa16f9",
            "value": 213450
          }
        },
        "c39c893d48374eaa9c6cbea4a9e15eed": {
          "model_module": "@jupyter-widgets/controls",
          "model_name": "HTMLModel",
          "model_module_version": "1.5.0",
          "state": {
            "_dom_classes": [],
            "_model_module": "@jupyter-widgets/controls",
            "_model_module_version": "1.5.0",
            "_model_name": "HTMLModel",
            "_view_count": null,
            "_view_module": "@jupyter-widgets/controls",
            "_view_module_version": "1.5.0",
            "_view_name": "HTMLView",
            "description": "",
            "description_tooltip": null,
            "layout": "IPY_MODEL_ae4605aff8934d76b568bdf89a0819be",
            "placeholder": "​",
            "style": "IPY_MODEL_8b286cdc89b7463bab6baffebf1b0e72",
            "value": " 213k/213k [00:00&lt;00:00, 265kB/s]"
          }
        },
        "5799287d33a047ce87d0df5b78d71fef": {
          "model_module": "@jupyter-widgets/base",
          "model_name": "LayoutModel",
          "model_module_version": "1.2.0",
          "state": {
            "_model_module": "@jupyter-widgets/base",
            "_model_module_version": "1.2.0",
            "_model_name": "LayoutModel",
            "_view_count": null,
            "_view_module": "@jupyter-widgets/base",
            "_view_module_version": "1.2.0",
            "_view_name": "LayoutView",
            "align_content": null,
            "align_items": null,
            "align_self": null,
            "border": null,
            "bottom": null,
            "display": null,
            "flex": null,
            "flex_flow": null,
            "grid_area": null,
            "grid_auto_columns": null,
            "grid_auto_flow": null,
            "grid_auto_rows": null,
            "grid_column": null,
            "grid_gap": null,
            "grid_row": null,
            "grid_template_areas": null,
            "grid_template_columns": null,
            "grid_template_rows": null,
            "height": null,
            "justify_content": null,
            "justify_items": null,
            "left": null,
            "margin": null,
            "max_height": null,
            "max_width": null,
            "min_height": null,
            "min_width": null,
            "object_fit": null,
            "object_position": null,
            "order": null,
            "overflow": null,
            "overflow_x": null,
            "overflow_y": null,
            "padding": null,
            "right": null,
            "top": null,
            "visibility": null,
            "width": null
          }
        },
        "f87d2ea688e741dea9e87d4a62d93064": {
          "model_module": "@jupyter-widgets/base",
          "model_name": "LayoutModel",
          "model_module_version": "1.2.0",
          "state": {
            "_model_module": "@jupyter-widgets/base",
            "_model_module_version": "1.2.0",
            "_model_name": "LayoutModel",
            "_view_count": null,
            "_view_module": "@jupyter-widgets/base",
            "_view_module_version": "1.2.0",
            "_view_name": "LayoutView",
            "align_content": null,
            "align_items": null,
            "align_self": null,
            "border": null,
            "bottom": null,
            "display": null,
            "flex": null,
            "flex_flow": null,
            "grid_area": null,
            "grid_auto_columns": null,
            "grid_auto_flow": null,
            "grid_auto_rows": null,
            "grid_column": null,
            "grid_gap": null,
            "grid_row": null,
            "grid_template_areas": null,
            "grid_template_columns": null,
            "grid_template_rows": null,
            "height": null,
            "justify_content": null,
            "justify_items": null,
            "left": null,
            "margin": null,
            "max_height": null,
            "max_width": null,
            "min_height": null,
            "min_width": null,
            "object_fit": null,
            "object_position": null,
            "order": null,
            "overflow": null,
            "overflow_x": null,
            "overflow_y": null,
            "padding": null,
            "right": null,
            "top": null,
            "visibility": null,
            "width": null
          }
        },
        "5090a6a5b9c54458a1fa4dba10b0087f": {
          "model_module": "@jupyter-widgets/controls",
          "model_name": "DescriptionStyleModel",
          "model_module_version": "1.5.0",
          "state": {
            "_model_module": "@jupyter-widgets/controls",
            "_model_module_version": "1.5.0",
            "_model_name": "DescriptionStyleModel",
            "_view_count": null,
            "_view_module": "@jupyter-widgets/base",
            "_view_module_version": "1.2.0",
            "_view_name": "StyleView",
            "description_width": ""
          }
        },
        "9214707f582c4a03b5365fc77819c10d": {
          "model_module": "@jupyter-widgets/base",
          "model_name": "LayoutModel",
          "model_module_version": "1.2.0",
          "state": {
            "_model_module": "@jupyter-widgets/base",
            "_model_module_version": "1.2.0",
            "_model_name": "LayoutModel",
            "_view_count": null,
            "_view_module": "@jupyter-widgets/base",
            "_view_module_version": "1.2.0",
            "_view_name": "LayoutView",
            "align_content": null,
            "align_items": null,
            "align_self": null,
            "border": null,
            "bottom": null,
            "display": null,
            "flex": null,
            "flex_flow": null,
            "grid_area": null,
            "grid_auto_columns": null,
            "grid_auto_flow": null,
            "grid_auto_rows": null,
            "grid_column": null,
            "grid_gap": null,
            "grid_row": null,
            "grid_template_areas": null,
            "grid_template_columns": null,
            "grid_template_rows": null,
            "height": null,
            "justify_content": null,
            "justify_items": null,
            "left": null,
            "margin": null,
            "max_height": null,
            "max_width": null,
            "min_height": null,
            "min_width": null,
            "object_fit": null,
            "object_position": null,
            "order": null,
            "overflow": null,
            "overflow_x": null,
            "overflow_y": null,
            "padding": null,
            "right": null,
            "top": null,
            "visibility": null,
            "width": null
          }
        },
        "7f51d71955234c7a989a1393eefa16f9": {
          "model_module": "@jupyter-widgets/controls",
          "model_name": "ProgressStyleModel",
          "model_module_version": "1.5.0",
          "state": {
            "_model_module": "@jupyter-widgets/controls",
            "_model_module_version": "1.5.0",
            "_model_name": "ProgressStyleModel",
            "_view_count": null,
            "_view_module": "@jupyter-widgets/base",
            "_view_module_version": "1.2.0",
            "_view_name": "StyleView",
            "bar_color": null,
            "description_width": ""
          }
        },
        "ae4605aff8934d76b568bdf89a0819be": {
          "model_module": "@jupyter-widgets/base",
          "model_name": "LayoutModel",
          "model_module_version": "1.2.0",
          "state": {
            "_model_module": "@jupyter-widgets/base",
            "_model_module_version": "1.2.0",
            "_model_name": "LayoutModel",
            "_view_count": null,
            "_view_module": "@jupyter-widgets/base",
            "_view_module_version": "1.2.0",
            "_view_name": "LayoutView",
            "align_content": null,
            "align_items": null,
            "align_self": null,
            "border": null,
            "bottom": null,
            "display": null,
            "flex": null,
            "flex_flow": null,
            "grid_area": null,
            "grid_auto_columns": null,
            "grid_auto_flow": null,
            "grid_auto_rows": null,
            "grid_column": null,
            "grid_gap": null,
            "grid_row": null,
            "grid_template_areas": null,
            "grid_template_columns": null,
            "grid_template_rows": null,
            "height": null,
            "justify_content": null,
            "justify_items": null,
            "left": null,
            "margin": null,
            "max_height": null,
            "max_width": null,
            "min_height": null,
            "min_width": null,
            "object_fit": null,
            "object_position": null,
            "order": null,
            "overflow": null,
            "overflow_x": null,
            "overflow_y": null,
            "padding": null,
            "right": null,
            "top": null,
            "visibility": null,
            "width": null
          }
        },
        "8b286cdc89b7463bab6baffebf1b0e72": {
          "model_module": "@jupyter-widgets/controls",
          "model_name": "DescriptionStyleModel",
          "model_module_version": "1.5.0",
          "state": {
            "_model_module": "@jupyter-widgets/controls",
            "_model_module_version": "1.5.0",
            "_model_name": "DescriptionStyleModel",
            "_view_count": null,
            "_view_module": "@jupyter-widgets/base",
            "_view_module_version": "1.2.0",
            "_view_name": "StyleView",
            "description_width": ""
          }
        },
        "0975b65661a440118e5826a0a0085653": {
          "model_module": "@jupyter-widgets/controls",
          "model_name": "HBoxModel",
          "model_module_version": "1.5.0",
          "state": {
            "_dom_classes": [],
            "_model_module": "@jupyter-widgets/controls",
            "_model_module_version": "1.5.0",
            "_model_name": "HBoxModel",
            "_view_count": null,
            "_view_module": "@jupyter-widgets/controls",
            "_view_module_version": "1.5.0",
            "_view_name": "HBoxView",
            "box_style": "",
            "children": [
              "IPY_MODEL_5510dd88c83d4f14a09b2d34209267ba",
              "IPY_MODEL_5d58c2ce3c0b4db78c217599fc454271",
              "IPY_MODEL_e7fcb1ac8e6e492f9bd26ac27fa7306b"
            ],
            "layout": "IPY_MODEL_633b0077a6154bf693c29ebf018fddbf"
          }
        },
        "5510dd88c83d4f14a09b2d34209267ba": {
          "model_module": "@jupyter-widgets/controls",
          "model_name": "HTMLModel",
          "model_module_version": "1.5.0",
          "state": {
            "_dom_classes": [],
            "_model_module": "@jupyter-widgets/controls",
            "_model_module_version": "1.5.0",
            "_model_name": "HTMLModel",
            "_view_count": null,
            "_view_module": "@jupyter-widgets/controls",
            "_view_module_version": "1.5.0",
            "_view_name": "HTMLView",
            "description": "",
            "description_tooltip": null,
            "layout": "IPY_MODEL_a04366fa22c449b584d01c666f4021f4",
            "placeholder": "​",
            "style": "IPY_MODEL_e322b8e75b8941ed9b3479b07b985a8e",
            "value": "Downloading: 100%"
          }
        },
        "5d58c2ce3c0b4db78c217599fc454271": {
          "model_module": "@jupyter-widgets/controls",
          "model_name": "FloatProgressModel",
          "model_module_version": "1.5.0",
          "state": {
            "_dom_classes": [],
            "_model_module": "@jupyter-widgets/controls",
            "_model_module_version": "1.5.0",
            "_model_name": "FloatProgressModel",
            "_view_count": null,
            "_view_module": "@jupyter-widgets/controls",
            "_view_module_version": "1.5.0",
            "_view_name": "ProgressView",
            "bar_style": "success",
            "description": "",
            "description_tooltip": null,
            "layout": "IPY_MODEL_bbd1bded42814e6e8bd14d1fc79375e9",
            "max": 435778770,
            "min": 0,
            "orientation": "horizontal",
            "style": "IPY_MODEL_fdbc0a307ba9433f8063f1521ca7530a",
            "value": 435778770
          }
        },
        "e7fcb1ac8e6e492f9bd26ac27fa7306b": {
          "model_module": "@jupyter-widgets/controls",
          "model_name": "HTMLModel",
          "model_module_version": "1.5.0",
          "state": {
            "_dom_classes": [],
            "_model_module": "@jupyter-widgets/controls",
            "_model_module_version": "1.5.0",
            "_model_name": "HTMLModel",
            "_view_count": null,
            "_view_module": "@jupyter-widgets/controls",
            "_view_module_version": "1.5.0",
            "_view_name": "HTMLView",
            "description": "",
            "description_tooltip": null,
            "layout": "IPY_MODEL_91795d1105774832a0e812a159291457",
            "placeholder": "​",
            "style": "IPY_MODEL_f875f9c5b4f646978830e4ab9c24da94",
            "value": " 436M/436M [00:35&lt;00:00, 8.44MB/s]"
          }
        },
        "633b0077a6154bf693c29ebf018fddbf": {
          "model_module": "@jupyter-widgets/base",
          "model_name": "LayoutModel",
          "model_module_version": "1.2.0",
          "state": {
            "_model_module": "@jupyter-widgets/base",
            "_model_module_version": "1.2.0",
            "_model_name": "LayoutModel",
            "_view_count": null,
            "_view_module": "@jupyter-widgets/base",
            "_view_module_version": "1.2.0",
            "_view_name": "LayoutView",
            "align_content": null,
            "align_items": null,
            "align_self": null,
            "border": null,
            "bottom": null,
            "display": null,
            "flex": null,
            "flex_flow": null,
            "grid_area": null,
            "grid_auto_columns": null,
            "grid_auto_flow": null,
            "grid_auto_rows": null,
            "grid_column": null,
            "grid_gap": null,
            "grid_row": null,
            "grid_template_areas": null,
            "grid_template_columns": null,
            "grid_template_rows": null,
            "height": null,
            "justify_content": null,
            "justify_items": null,
            "left": null,
            "margin": null,
            "max_height": null,
            "max_width": null,
            "min_height": null,
            "min_width": null,
            "object_fit": null,
            "object_position": null,
            "order": null,
            "overflow": null,
            "overflow_x": null,
            "overflow_y": null,
            "padding": null,
            "right": null,
            "top": null,
            "visibility": null,
            "width": null
          }
        },
        "a04366fa22c449b584d01c666f4021f4": {
          "model_module": "@jupyter-widgets/base",
          "model_name": "LayoutModel",
          "model_module_version": "1.2.0",
          "state": {
            "_model_module": "@jupyter-widgets/base",
            "_model_module_version": "1.2.0",
            "_model_name": "LayoutModel",
            "_view_count": null,
            "_view_module": "@jupyter-widgets/base",
            "_view_module_version": "1.2.0",
            "_view_name": "LayoutView",
            "align_content": null,
            "align_items": null,
            "align_self": null,
            "border": null,
            "bottom": null,
            "display": null,
            "flex": null,
            "flex_flow": null,
            "grid_area": null,
            "grid_auto_columns": null,
            "grid_auto_flow": null,
            "grid_auto_rows": null,
            "grid_column": null,
            "grid_gap": null,
            "grid_row": null,
            "grid_template_areas": null,
            "grid_template_columns": null,
            "grid_template_rows": null,
            "height": null,
            "justify_content": null,
            "justify_items": null,
            "left": null,
            "margin": null,
            "max_height": null,
            "max_width": null,
            "min_height": null,
            "min_width": null,
            "object_fit": null,
            "object_position": null,
            "order": null,
            "overflow": null,
            "overflow_x": null,
            "overflow_y": null,
            "padding": null,
            "right": null,
            "top": null,
            "visibility": null,
            "width": null
          }
        },
        "e322b8e75b8941ed9b3479b07b985a8e": {
          "model_module": "@jupyter-widgets/controls",
          "model_name": "DescriptionStyleModel",
          "model_module_version": "1.5.0",
          "state": {
            "_model_module": "@jupyter-widgets/controls",
            "_model_module_version": "1.5.0",
            "_model_name": "DescriptionStyleModel",
            "_view_count": null,
            "_view_module": "@jupyter-widgets/base",
            "_view_module_version": "1.2.0",
            "_view_name": "StyleView",
            "description_width": ""
          }
        },
        "bbd1bded42814e6e8bd14d1fc79375e9": {
          "model_module": "@jupyter-widgets/base",
          "model_name": "LayoutModel",
          "model_module_version": "1.2.0",
          "state": {
            "_model_module": "@jupyter-widgets/base",
            "_model_module_version": "1.2.0",
            "_model_name": "LayoutModel",
            "_view_count": null,
            "_view_module": "@jupyter-widgets/base",
            "_view_module_version": "1.2.0",
            "_view_name": "LayoutView",
            "align_content": null,
            "align_items": null,
            "align_self": null,
            "border": null,
            "bottom": null,
            "display": null,
            "flex": null,
            "flex_flow": null,
            "grid_area": null,
            "grid_auto_columns": null,
            "grid_auto_flow": null,
            "grid_auto_rows": null,
            "grid_column": null,
            "grid_gap": null,
            "grid_row": null,
            "grid_template_areas": null,
            "grid_template_columns": null,
            "grid_template_rows": null,
            "height": null,
            "justify_content": null,
            "justify_items": null,
            "left": null,
            "margin": null,
            "max_height": null,
            "max_width": null,
            "min_height": null,
            "min_width": null,
            "object_fit": null,
            "object_position": null,
            "order": null,
            "overflow": null,
            "overflow_x": null,
            "overflow_y": null,
            "padding": null,
            "right": null,
            "top": null,
            "visibility": null,
            "width": null
          }
        },
        "fdbc0a307ba9433f8063f1521ca7530a": {
          "model_module": "@jupyter-widgets/controls",
          "model_name": "ProgressStyleModel",
          "model_module_version": "1.5.0",
          "state": {
            "_model_module": "@jupyter-widgets/controls",
            "_model_module_version": "1.5.0",
            "_model_name": "ProgressStyleModel",
            "_view_count": null,
            "_view_module": "@jupyter-widgets/base",
            "_view_module_version": "1.2.0",
            "_view_name": "StyleView",
            "bar_color": null,
            "description_width": ""
          }
        },
        "91795d1105774832a0e812a159291457": {
          "model_module": "@jupyter-widgets/base",
          "model_name": "LayoutModel",
          "model_module_version": "1.2.0",
          "state": {
            "_model_module": "@jupyter-widgets/base",
            "_model_module_version": "1.2.0",
            "_model_name": "LayoutModel",
            "_view_count": null,
            "_view_module": "@jupyter-widgets/base",
            "_view_module_version": "1.2.0",
            "_view_name": "LayoutView",
            "align_content": null,
            "align_items": null,
            "align_self": null,
            "border": null,
            "bottom": null,
            "display": null,
            "flex": null,
            "flex_flow": null,
            "grid_area": null,
            "grid_auto_columns": null,
            "grid_auto_flow": null,
            "grid_auto_rows": null,
            "grid_column": null,
            "grid_gap": null,
            "grid_row": null,
            "grid_template_areas": null,
            "grid_template_columns": null,
            "grid_template_rows": null,
            "height": null,
            "justify_content": null,
            "justify_items": null,
            "left": null,
            "margin": null,
            "max_height": null,
            "max_width": null,
            "min_height": null,
            "min_width": null,
            "object_fit": null,
            "object_position": null,
            "order": null,
            "overflow": null,
            "overflow_x": null,
            "overflow_y": null,
            "padding": null,
            "right": null,
            "top": null,
            "visibility": null,
            "width": null
          }
        },
        "f875f9c5b4f646978830e4ab9c24da94": {
          "model_module": "@jupyter-widgets/controls",
          "model_name": "DescriptionStyleModel",
          "model_module_version": "1.5.0",
          "state": {
            "_model_module": "@jupyter-widgets/controls",
            "_model_module_version": "1.5.0",
            "_model_name": "DescriptionStyleModel",
            "_view_count": null,
            "_view_module": "@jupyter-widgets/base",
            "_view_module_version": "1.2.0",
            "_view_name": "StyleView",
            "description_width": ""
          }
        }
      }
    }
  },
  "nbformat_minor": 0,
  "nbformat": 4,
  "cells": [
    {
      "cell_type": "code",
      "source": [
        "!pip install transformers==4.1.1 &> /dev/null\n",
        "import importlib\n",
        "import sys\n",
        "importlib.reload(sys.modules['pkg_resources'])\n",
        "\n",
        "sys.modules['pkg_resources'].get_distribution('tokenizers').version\n",
        "\n",
        "import transformers\n",
        "transformers.__version__"
      ],
      "metadata": {
        "id": "GsO688dCR09V",
        "outputId": "2cf88c45-0525-4b96-affb-48f77a854f26",
        "execution": {
          "iopub.status.busy": "2022-04-06T09:16:04.630663Z",
          "iopub.execute_input": "2022-04-06T09:16:04.630905Z",
          "iopub.status.idle": "2022-04-06T09:16:29.627586Z",
          "shell.execute_reply.started": "2022-04-06T09:16:04.630836Z",
          "shell.execute_reply": "2022-04-06T09:16:29.626534Z"
        },
        "trusted": true,
        "colab": {
          "base_uri": "https://localhost:8080/",
          "height": 35
        }
      },
      "execution_count": null,
      "outputs": [
        {
          "output_type": "execute_result",
          "data": {
            "text/plain": [
              "'4.1.1'"
            ],
            "application/vnd.google.colaboratory.intrinsic+json": {
              "type": "string"
            }
          },
          "metadata": {},
          "execution_count": 1
        }
      ]
    },
    {
      "cell_type": "code",
      "source": [
        "!pip install mendelai-brat-parser &> /dev/null\n",
        "from brat_parser import get_entities_relations_attributes_groups\n",
        "\n",
        "import torch \n",
        "import spacy\n",
        "import numpy as np\n",
        "import pandas as pd\n",
        "from glob import glob\n",
        "import os\n",
        "import matplotlib.pyplot as plt\n",
        "import seaborn as sns\n",
        "\n",
        "#!pip uninstall nltk &> /dev/null\n",
        "#!pip install -U nltk &> /dev/null\n",
        "import nltk\n",
        "from nltk.tokenize import sent_tokenize,word_tokenize\n",
        "nltk.download('punkt')\n",
        "\n",
        "from torch.utils.data import TensorDataset, DataLoader, RandomSampler, SequentialSampler\n",
        "from transformers import BertTokenizer\n",
        "\n",
        "from sklearn.model_selection import train_test_split\n",
        "from tensorflow.keras.preprocessing.sequence import pad_sequences\n",
        "\n",
        "from tqdm import tqdm, trange\n",
        "\n",
        "MAX_LEN = 75\n",
        "batch_size = 32"
      ],
      "metadata": {
        "id": "47osPwG1dVdu",
        "outputId": "28bd05a1-2613-498d-f1a6-a7a5e2290831",
        "execution": {
          "iopub.status.busy": "2022-04-06T09:16:29.630055Z",
          "iopub.execute_input": "2022-04-06T09:16:29.630347Z",
          "iopub.status.idle": "2022-04-06T09:16:43.406004Z",
          "shell.execute_reply.started": "2022-04-06T09:16:29.630307Z",
          "shell.execute_reply": "2022-04-06T09:16:43.40516Z"
        },
        "trusted": true,
        "colab": {
          "base_uri": "https://localhost:8080/"
        }
      },
      "execution_count": null,
      "outputs": [
        {
          "output_type": "stream",
          "name": "stdout",
          "text": [
            "[nltk_data] Downloading package punkt to /root/nltk_data...\n",
            "[nltk_data]   Package punkt is already up-to-date!\n"
          ]
        }
      ]
    },
    {
      "cell_type": "code",
      "source": [
        "from google.colab import drive\n",
        "drive.mount('/content/drive')"
      ],
      "metadata": {
        "id": "rc3t0n5bFeUy",
        "colab": {
          "base_uri": "https://localhost:8080/"
        },
        "outputId": "539c5499-ff05-4819-9361-e901465f5c37"
      },
      "execution_count": null,
      "outputs": [
        {
          "output_type": "stream",
          "name": "stdout",
          "text": [
            "Drive already mounted at /content/drive; to attempt to forcibly remount, call drive.mount(\"/content/drive\", force_remount=True).\n"
          ]
        }
      ]
    },
    {
      "cell_type": "markdown",
      "source": [
        "# Task 1: NER"
      ],
      "metadata": {
        "id": "5DvsWN77oJ4z"
      }
    },
    {
      "cell_type": "markdown",
      "source": [
        "## Data Extraction"
      ],
      "metadata": {
        "id": "RNvSjGo-oLO8"
      }
    },
    {
      "cell_type": "code",
      "source": [
        "PATH = \"/content/drive/MyDrive/CMED/Data/trainingdata_v3/train\"\n",
        "\n",
        "def read_annotated_files(PATH):\n",
        "\n",
        "    print(\"Reading Files\")\n",
        "\n",
        "    train = pd.DataFrame(columns = [\"Id\",\"Doc_Id\",\"Sent_Id\",\"Word\",\"Tag\"])\n",
        "\n",
        "    sent_id = 0\n",
        "    id = 0\n",
        "    doc_id = 0\n",
        "     \n",
        "    files = glob(PATH + '/*')\n",
        "    for path in files:\n",
        "    \n",
        "      if path.endswith(\".ann\"):\n",
        "        continue\n",
        "      \n",
        "      doc_id += 1\n",
        "      if doc_id % 25 == 0:\n",
        "        print(doc_id,end = ' ')\n",
        "\n",
        "      span = 0\n",
        "      with open(path) as txt:\n",
        "        raw = txt.read()\n",
        "\n",
        "      entities,_,_,_ = get_entities_relations_attributes_groups(path.replace(\".txt\",\".ann\"))\n",
        "      entl = []\n",
        "      for i in entities:\n",
        "        if (entities[i].span.__len__())>1:\n",
        "          entities[i].span = ((entities[i].span[0][0],entities[i].span[-1][-1]),)\n",
        "        entl.append([*entities[i].span[0],entities[i].text,entities[i].type])\n",
        "      entl = sorted(entl)[::-1]\n",
        "\n",
        "      for sent in sent_tokenize(raw):\n",
        "        sent_id += 1\n",
        "        for word in word_tokenize(sent):\n",
        "          id += 1\n",
        "          train = train.append(pd.DataFrame(data = np.array([[id,doc_id,sent_id,word,np.nan]]),columns = [\"Id\",\"Doc_Id\",\"Sent_Id\",\"Word\",\"Tag\"]))\n",
        "          span += raw[span:].find(word)\n",
        "          while True:\n",
        "            if len(entl)>0 and entl[-1][0] <= span:\n",
        "              if entl[-1][1] <= span:\n",
        "                entl.pop()\n",
        "              else:\n",
        "                if span == entl[-1][0]:\n",
        "                  train.iloc[-1,-1] = \"B-\" + entl[-1][3]\n",
        "                else:\n",
        "                  train.iloc[-1,-1] = \"I-\" + entl[-1][3]\n",
        "                break\n",
        "            else:\n",
        "              train.iloc[-1,-1] = 'O'\n",
        "              break\n",
        "    return train,files\n",
        "\n",
        "#train,_ = read_annotated_files(PATH)"
      ],
      "metadata": {
        "id": "PP6GnelOnkez",
        "execution": {
          "iopub.status.busy": "2022-04-06T10:00:59.890331Z",
          "iopub.execute_input": "2022-04-06T10:00:59.890597Z",
          "iopub.status.idle": "2022-04-06T10:00:59.904992Z",
          "shell.execute_reply.started": "2022-04-06T10:00:59.890568Z",
          "shell.execute_reply": "2022-04-06T10:00:59.90431Z"
        },
        "trusted": true
      },
      "execution_count": null,
      "outputs": []
    },
    {
      "cell_type": "code",
      "source": [
        "#train.to_csv(\"TRAIN_CMED_NER_BIO2.csv\")"
      ],
      "metadata": {
        "id": "bmb6yrdAMf4Y"
      },
      "execution_count": null,
      "outputs": []
    },
    {
      "cell_type": "markdown",
      "source": [
        "## Data Preprocessing"
      ],
      "metadata": {
        "id": "j1Kwotaei6k2"
      }
    },
    {
      "cell_type": "code",
      "source": [
        "train = pd.read_csv(\"/content/drive/MyDrive/CMED/Task 1: Named Entity Recognition/TRAIN_CMED_NER_BIO2.csv\")\n",
        "train_ner = train.copy()\n",
        "train_ner = train_ner.drop(np.where(train_ner[\"Word\"].isnull())[0],axis=0)\n",
        "train_ner[\"Tag\"] = [word[0] for word in train_ner[\"Tag\"]]\n",
        "train_ner = train_ner.set_index(\"Id\")\n",
        "train_ner = train_ner.drop(\"Unnamed: 0\",axis = 1)\n",
        "del train\n",
        "train_ner.head()"
      ],
      "metadata": {
        "id": "4oEOyyInjNWB",
        "outputId": "47806ce7-c64d-4197-a37c-d176ed2a208f",
        "execution": {
          "iopub.status.busy": "2022-04-06T09:16:43.446232Z",
          "iopub.execute_input": "2022-04-06T09:16:43.446838Z",
          "iopub.status.idle": "2022-04-06T09:16:43.79602Z",
          "shell.execute_reply.started": "2022-04-06T09:16:43.446788Z",
          "shell.execute_reply": "2022-04-06T09:16:43.795151Z"
        },
        "trusted": true,
        "colab": {
          "base_uri": "https://localhost:8080/",
          "height": 238
        }
      },
      "execution_count": null,
      "outputs": [
        {
          "output_type": "execute_result",
          "data": {
            "text/plain": [
              "    Doc_Id  Sent_Id        Word Tag\n",
              "Id                                 \n",
              "1        1        1      Record   O\n",
              "2        1        1        date   O\n",
              "3        1        1           :   O\n",
              "4        1        1  2086-04-18   O\n",
              "5        1        1     ZASTROW   O"
            ],
            "text/html": [
              "\n",
              "  <div id=\"df-e5cdcb0f-c0c2-4e8f-b695-76d1d9eae532\">\n",
              "    <div class=\"colab-df-container\">\n",
              "      <div>\n",
              "<style scoped>\n",
              "    .dataframe tbody tr th:only-of-type {\n",
              "        vertical-align: middle;\n",
              "    }\n",
              "\n",
              "    .dataframe tbody tr th {\n",
              "        vertical-align: top;\n",
              "    }\n",
              "\n",
              "    .dataframe thead th {\n",
              "        text-align: right;\n",
              "    }\n",
              "</style>\n",
              "<table border=\"1\" class=\"dataframe\">\n",
              "  <thead>\n",
              "    <tr style=\"text-align: right;\">\n",
              "      <th></th>\n",
              "      <th>Doc_Id</th>\n",
              "      <th>Sent_Id</th>\n",
              "      <th>Word</th>\n",
              "      <th>Tag</th>\n",
              "    </tr>\n",
              "    <tr>\n",
              "      <th>Id</th>\n",
              "      <th></th>\n",
              "      <th></th>\n",
              "      <th></th>\n",
              "      <th></th>\n",
              "    </tr>\n",
              "  </thead>\n",
              "  <tbody>\n",
              "    <tr>\n",
              "      <th>1</th>\n",
              "      <td>1</td>\n",
              "      <td>1</td>\n",
              "      <td>Record</td>\n",
              "      <td>O</td>\n",
              "    </tr>\n",
              "    <tr>\n",
              "      <th>2</th>\n",
              "      <td>1</td>\n",
              "      <td>1</td>\n",
              "      <td>date</td>\n",
              "      <td>O</td>\n",
              "    </tr>\n",
              "    <tr>\n",
              "      <th>3</th>\n",
              "      <td>1</td>\n",
              "      <td>1</td>\n",
              "      <td>:</td>\n",
              "      <td>O</td>\n",
              "    </tr>\n",
              "    <tr>\n",
              "      <th>4</th>\n",
              "      <td>1</td>\n",
              "      <td>1</td>\n",
              "      <td>2086-04-18</td>\n",
              "      <td>O</td>\n",
              "    </tr>\n",
              "    <tr>\n",
              "      <th>5</th>\n",
              "      <td>1</td>\n",
              "      <td>1</td>\n",
              "      <td>ZASTROW</td>\n",
              "      <td>O</td>\n",
              "    </tr>\n",
              "  </tbody>\n",
              "</table>\n",
              "</div>\n",
              "      <button class=\"colab-df-convert\" onclick=\"convertToInteractive('df-e5cdcb0f-c0c2-4e8f-b695-76d1d9eae532')\"\n",
              "              title=\"Convert this dataframe to an interactive table.\"\n",
              "              style=\"display:none;\">\n",
              "        \n",
              "  <svg xmlns=\"http://www.w3.org/2000/svg\" height=\"24px\"viewBox=\"0 0 24 24\"\n",
              "       width=\"24px\">\n",
              "    <path d=\"M0 0h24v24H0V0z\" fill=\"none\"/>\n",
              "    <path d=\"M18.56 5.44l.94 2.06.94-2.06 2.06-.94-2.06-.94-.94-2.06-.94 2.06-2.06.94zm-11 1L8.5 8.5l.94-2.06 2.06-.94-2.06-.94L8.5 2.5l-.94 2.06-2.06.94zm10 10l.94 2.06.94-2.06 2.06-.94-2.06-.94-.94-2.06-.94 2.06-2.06.94z\"/><path d=\"M17.41 7.96l-1.37-1.37c-.4-.4-.92-.59-1.43-.59-.52 0-1.04.2-1.43.59L10.3 9.45l-7.72 7.72c-.78.78-.78 2.05 0 2.83L4 21.41c.39.39.9.59 1.41.59.51 0 1.02-.2 1.41-.59l7.78-7.78 2.81-2.81c.8-.78.8-2.07 0-2.86zM5.41 20L4 18.59l7.72-7.72 1.47 1.35L5.41 20z\"/>\n",
              "  </svg>\n",
              "      </button>\n",
              "      \n",
              "  <style>\n",
              "    .colab-df-container {\n",
              "      display:flex;\n",
              "      flex-wrap:wrap;\n",
              "      gap: 12px;\n",
              "    }\n",
              "\n",
              "    .colab-df-convert {\n",
              "      background-color: #E8F0FE;\n",
              "      border: none;\n",
              "      border-radius: 50%;\n",
              "      cursor: pointer;\n",
              "      display: none;\n",
              "      fill: #1967D2;\n",
              "      height: 32px;\n",
              "      padding: 0 0 0 0;\n",
              "      width: 32px;\n",
              "    }\n",
              "\n",
              "    .colab-df-convert:hover {\n",
              "      background-color: #E2EBFA;\n",
              "      box-shadow: 0px 1px 2px rgba(60, 64, 67, 0.3), 0px 1px 3px 1px rgba(60, 64, 67, 0.15);\n",
              "      fill: #174EA6;\n",
              "    }\n",
              "\n",
              "    [theme=dark] .colab-df-convert {\n",
              "      background-color: #3B4455;\n",
              "      fill: #D2E3FC;\n",
              "    }\n",
              "\n",
              "    [theme=dark] .colab-df-convert:hover {\n",
              "      background-color: #434B5C;\n",
              "      box-shadow: 0px 1px 3px 1px rgba(0, 0, 0, 0.15);\n",
              "      filter: drop-shadow(0px 1px 2px rgba(0, 0, 0, 0.3));\n",
              "      fill: #FFFFFF;\n",
              "    }\n",
              "  </style>\n",
              "\n",
              "      <script>\n",
              "        const buttonEl =\n",
              "          document.querySelector('#df-e5cdcb0f-c0c2-4e8f-b695-76d1d9eae532 button.colab-df-convert');\n",
              "        buttonEl.style.display =\n",
              "          google.colab.kernel.accessAllowed ? 'block' : 'none';\n",
              "\n",
              "        async function convertToInteractive(key) {\n",
              "          const element = document.querySelector('#df-e5cdcb0f-c0c2-4e8f-b695-76d1d9eae532');\n",
              "          const dataTable =\n",
              "            await google.colab.kernel.invokeFunction('convertToInteractive',\n",
              "                                                     [key], {});\n",
              "          if (!dataTable) return;\n",
              "\n",
              "          const docLinkHtml = 'Like what you see? Visit the ' +\n",
              "            '<a target=\"_blank\" href=https://colab.research.google.com/notebooks/data_table.ipynb>data table notebook</a>'\n",
              "            + ' to learn more about interactive tables.';\n",
              "          element.innerHTML = '';\n",
              "          dataTable['output_type'] = 'display_data';\n",
              "          await google.colab.output.renderOutput(dataTable, element);\n",
              "          const docLink = document.createElement('div');\n",
              "          docLink.innerHTML = docLinkHtml;\n",
              "          element.appendChild(docLink);\n",
              "        }\n",
              "      </script>\n",
              "    </div>\n",
              "  </div>\n",
              "  "
            ]
          },
          "metadata": {},
          "execution_count": 6
        }
      ]
    },
    {
      "cell_type": "code",
      "source": [
        "grp_obj = train_ner.groupby(\"Sent_Id\").apply(lambda x:[(word,label) for word,label in zip(x[\"Word\"],x[\"Tag\"])])\n",
        "\n",
        "sentences = [[tpl[0] for tpl in sent] for sent in grp_obj]\n",
        "labels = [[tpl[1] for tpl in sent] for sent in grp_obj]\n",
        "\n",
        "saved_sentences = sentences\n",
        "saved_labels = labels\n",
        " \n",
        "tag_values = list(set(train_ner[\"Tag\"].values))\n",
        "tag_values.append(\"PAD\")\n",
        "tag2idx = {t: i for i, t in enumerate(tag_values)}"
      ],
      "metadata": {
        "id": "1z37K8dNFABy",
        "execution": {
          "iopub.status.busy": "2022-04-06T09:16:43.79955Z",
          "iopub.execute_input": "2022-04-06T09:16:43.79985Z",
          "iopub.status.idle": "2022-04-06T09:16:45.046543Z",
          "shell.execute_reply.started": "2022-04-06T09:16:43.79979Z",
          "shell.execute_reply": "2022-04-06T09:16:45.045775Z"
        },
        "trusted": true
      },
      "execution_count": null,
      "outputs": []
    },
    {
      "cell_type": "code",
      "source": [
        "tokenizer = BertTokenizer.from_pretrained('bert-base-cased', do_lower_case=False) \n",
        "\n",
        "def get_tokenized_sentences_and_labels(sentences,labels,tokenizer):\n",
        "\n",
        "  sent = []\n",
        "  lab = []\n",
        "\n",
        "  for i,j in zip(sentences,labels):\n",
        "    sent.append([])\n",
        "    lab.append([])\n",
        "    for ind in range(len(i)):\n",
        "      temp = tokenizer.tokenize(i[ind])\n",
        "      sent[-1].extend(temp)\n",
        "      lab[-1].extend((j[ind]*len(temp)))\n",
        "  return sent,lab\n",
        "  \n",
        "sentences,labels = get_tokenized_sentences_and_labels(sentences,labels,tokenizer)"
      ],
      "metadata": {
        "id": "8qULi2lSFAFK",
        "execution": {
          "iopub.status.busy": "2022-04-06T09:16:45.047859Z",
          "iopub.execute_input": "2022-04-06T09:16:45.048096Z",
          "iopub.status.idle": "2022-04-06T09:17:00.270537Z",
          "shell.execute_reply.started": "2022-04-06T09:16:45.048063Z",
          "shell.execute_reply": "2022-04-06T09:17:00.269772Z"
        },
        "trusted": true
      },
      "execution_count": null,
      "outputs": []
    },
    {
      "cell_type": "code",
      "source": [
        "def normalize_longer_sequences():\n",
        "  global sentences,labels\n",
        "\n",
        "  inds = []\n",
        "\n",
        "  for i in range(len(sentences)):\n",
        "    if len(sentences[i]) > MAX_LEN:\n",
        "      inds.append(i)\n",
        "\n",
        "  temp_sent = np.array(sentences,dtype = object)[inds]\n",
        "  temp_lab = np.array(labels,dtype = object)[inds]\n",
        "\n",
        "  sentences = np.delete(np.array(sentences,dtype = object),inds,0)\n",
        "  labels = np.delete(np.array(labels,dtype = object),inds,0)\n",
        "\n",
        "  save_sent = []\n",
        "  save_lab = []\n",
        "  for i in range(len(temp_sent)):\n",
        "    for k in range(len(temp_sent[i])//(MAX_LEN//2)-1):\n",
        "      save_sent.append(temp_sent[i][k*(MAX_LEN//2):k*(MAX_LEN//2)+75])\n",
        "      save_lab.append(temp_lab[i][k*(MAX_LEN//2):k*(MAX_LEN//2)+75])\n",
        "\n",
        "  sentences = np.concatenate([sentences,save_sent],axis = 0)\n",
        "  labels = np.concatenate([labels,save_lab],axis = 0)\n",
        "\n",
        "normalize_longer_sequences()\n",
        "\n",
        "for i,j in zip(sentences,labels):\n",
        "  assert(len(i) == len(j))"
      ],
      "metadata": {
        "id": "CYukUocmN_xA",
        "outputId": "bf515fbc-3e47-4b01-dd73-a2415b8405f3",
        "execution": {
          "iopub.status.busy": "2022-04-06T09:17:00.271913Z",
          "iopub.execute_input": "2022-04-06T09:17:00.272181Z",
          "iopub.status.idle": "2022-04-06T09:17:00.342405Z",
          "shell.execute_reply.started": "2022-04-06T09:17:00.272145Z",
          "shell.execute_reply": "2022-04-06T09:17:00.341648Z"
        },
        "trusted": true,
        "colab": {
          "base_uri": "https://localhost:8080/"
        }
      },
      "execution_count": null,
      "outputs": [
        {
          "output_type": "stream",
          "name": "stderr",
          "text": [
            "<string>:6: VisibleDeprecationWarning: Creating an ndarray from ragged nested sequences (which is a list-or-tuple of lists-or-tuples-or ndarrays with different lengths or shapes) is deprecated. If you meant to do this, you must specify 'dtype=object' when creating the ndarray.\n"
          ]
        }
      ]
    },
    {
      "cell_type": "code",
      "source": [
        "input_ids = pad_sequences([tokenizer.convert_tokens_to_ids(txt) for txt in sentences],\n",
        "                          maxlen=MAX_LEN, dtype=\"long\", value=0.0,\n",
        "                          truncating=\"post\", padding=\"post\")\n",
        "\n",
        "tags = pad_sequences([[tag2idx.get(l) for l in lab] for lab in labels],\n",
        "                     maxlen=MAX_LEN, value=tag2idx[\"PAD\"], padding=\"post\",\n",
        "                     dtype=\"long\", truncating=\"post\")\n",
        "\n",
        "attention_masks = [[float(i != 0.0) for i in ii] for ii in input_ids]"
      ],
      "metadata": {
        "id": "vHyM-2LYAmZU",
        "execution": {
          "iopub.status.busy": "2022-04-06T09:17:00.343904Z",
          "iopub.execute_input": "2022-04-06T09:17:00.344434Z",
          "iopub.status.idle": "2022-04-06T09:17:05.079385Z",
          "shell.execute_reply.started": "2022-04-06T09:17:00.344392Z",
          "shell.execute_reply": "2022-04-06T09:17:05.078567Z"
        },
        "trusted": true
      },
      "execution_count": null,
      "outputs": []
    },
    {
      "cell_type": "code",
      "source": [
        "tr_inputs, tr_tags, tr_masks = input_ids, tags, attention_masks\n",
        "\n",
        "tr_inputs = torch.tensor(tr_inputs)\n",
        "tr_tags = torch.tensor(tr_tags)\n",
        "tr_masks = torch.tensor(tr_masks)\n",
        "\n",
        "train_data = TensorDataset(tr_inputs, tr_masks, tr_tags)\n",
        "train_sampler = RandomSampler(train_data)\n",
        "train_dataloader = DataLoader(train_data, sampler=train_sampler, batch_size=batch_size)"
      ],
      "metadata": {
        "id": "iwcwwoSu4KQJ",
        "execution": {
          "iopub.status.busy": "2022-04-06T09:17:05.080828Z",
          "iopub.execute_input": "2022-04-06T09:17:05.081117Z",
          "iopub.status.idle": "2022-04-06T09:17:05.264993Z",
          "shell.execute_reply.started": "2022-04-06T09:17:05.081075Z",
          "shell.execute_reply": "2022-04-06T09:17:05.264176Z"
        },
        "trusted": true
      },
      "execution_count": null,
      "outputs": []
    },
    {
      "cell_type": "markdown",
      "source": [
        "## Model "
      ],
      "metadata": {
        "id": "1jZJ-KBFI6jN"
      }
    },
    {
      "cell_type": "markdown",
      "source": [
        "### BERT"
      ],
      "metadata": {
        "id": "8pfq2VyGKuY1"
      }
    },
    {
      "cell_type": "markdown",
      "source": [
        "#### Utility procedures for training BERT"
      ],
      "metadata": {
        "id": "p0Dx4Wm5L0Pu"
      }
    },
    {
      "cell_type": "markdown",
      "source": [
        "##### Helper Function for BERT Predictions"
      ],
      "metadata": {
        "id": "EKclqVJ-Xu1I"
      }
    },
    {
      "cell_type": "code",
      "source": [
        "def get_span_from_predictions(raw,sentences,labels):\n",
        "  addingstatus = span = 0\n",
        "  sent = []\n",
        "  lab = []\n",
        "  for i,j in zip(sentences,labels):\n",
        "    sent.extend(i)\n",
        "    lab.extend(j)\n",
        "  for i in range(len(lab)):\n",
        "    if lab[i] == 'PAD':\n",
        "        lab[i] = 'O'\n",
        "  prev = 'O'\n",
        "  df = pd.DataFrame(columns = [\"span\",\"text\"])\n",
        "  for i,j in zip(sent,lab):\n",
        "    span += raw[span:].find(i)\n",
        "    if prev == 'O':\n",
        "        prev = j\n",
        "        if j == 'B':\n",
        "            df = df.append(pd.DataFrame([[[span,span+len(i)],i]],columns = [\"span\",\"text\"],index = [len(df)]))\n",
        "            addingstatus = True\n",
        "    elif prev == 'B' or prev == 'I':\n",
        "        prev = j\n",
        "        if j == 'B' :\n",
        "            df = df.append(pd.DataFrame([[[span,span+len(i)],i]],columns = [\"span\",\"text\"],index = [len(df)]))\n",
        "            addingstatus = True\n",
        "        elif j == 'I' and addingstatus:\n",
        "            df.at[len(df)-1,'span'][-1] = span + len(i)\n",
        "            df.at[len(df)-1,'text'] += ' ' + i\n",
        "            addingstatus = True\n",
        "        else :\n",
        "            addingstatus = False\n",
        "  for i in range(len(df)):\n",
        "    df.iloc[i]['Id'] = i\n",
        "  return df"
      ],
      "metadata": {
        "id": "fV1faEbuPfmS",
        "execution": {
          "iopub.status.busy": "2022-04-06T11:46:34.146479Z",
          "iopub.execute_input": "2022-04-06T11:46:34.147128Z",
          "iopub.status.idle": "2022-04-06T11:46:34.157832Z",
          "shell.execute_reply.started": "2022-04-06T11:46:34.147089Z",
          "shell.execute_reply": "2022-04-06T11:46:34.157059Z"
        },
        "trusted": true
      },
      "execution_count": null,
      "outputs": []
    },
    {
      "cell_type": "code",
      "source": [
        "def get_ner_predictions(PATH,model,tokenizer,tag_values,get_spans = False,MAX_LEN = 75):\n",
        "  device = torch.device(\"cuda\" if torch.cuda.is_available() else \"cpu\")\n",
        "\n",
        "  if torch.cuda.is_available():\n",
        "    model.cuda()\n",
        "  # Read Text\n",
        "  with open(PATH) as txt:\n",
        "    raw = txt.read()\n",
        "    \n",
        "  # Tokenize Text\n",
        "  sentences  = []\n",
        "  for sentence in sent_tokenize(raw):\n",
        "    sentences.append([])\n",
        "    for word in word_tokenize(sentence):\n",
        "      sentences[-1].extend(tokenizer.tokenize(word))\n",
        "  \n",
        "  # Take case of sentences whose length exceeds MAX_LEN\n",
        "  offset = 37\n",
        "  to_merge_data = [0]*len(sentences)\n",
        "\n",
        "  for i in range(len(sentences)):\n",
        "    if len(sentences[i]) > MAX_LEN:\n",
        "      temp = []\n",
        "      for k in range(1 + ((len(sentences[i]) - MAX_LEN + offset - 1 ) // offset)):\n",
        "        temp.append(sentences[i][offset*k:MAX_LEN + offset*k])\n",
        "      to_merge_data[i] = [1]*len(temp)\n",
        "      to_merge_data[i][0] = 2\n",
        "      sentences[i] = temp\n",
        "    \n",
        "  for i in range(len(to_merge_data)-1,-1,-1):\n",
        "    if type(to_merge_data[i]) != int:\n",
        "      sentences[i:i+1] = sentences[i]\n",
        "      to_merge_data[i:i+1] = to_merge_data[i]\n",
        "\n",
        "  # Create dataloader to load data into model\n",
        "  input_ids = torch.tensor(pad_sequences([tokenizer.convert_tokens_to_ids(txt) for txt in sentences],\n",
        "                            maxlen=MAX_LEN, dtype=\"long\", value=0.0,\n",
        "                            truncating=\"post\", padding=\"post\"))\n",
        "  masks = torch.tensor([[float(i != 0.0) for i in ii] for ii in input_ids])\n",
        "\n",
        "  data = TensorDataset(input_ids, masks )\n",
        "  sampler = SequentialSampler(data)\n",
        "  dataloader = DataLoader(data, sampler = sampler, batch_size=32)\n",
        "\n",
        "  # Get the predictions from the model\n",
        "  outputs = []\n",
        "  model.eval()\n",
        "  for batch in dataloader:\n",
        "    inputs,masks = (i.to(device) for i in batch)\n",
        "    with torch.no_grad():\n",
        "      outputs.append(model(inputs,attention_mask = masks,token_type_ids = None))\n",
        "      if type(outputs[-1]) != torch.Tensor:\n",
        "        outputs[-1] = outputs[-1].__getitem__(0)\n",
        "      outputs[-1].detach()\n",
        "\n",
        "  labels = []\n",
        "  for i in outputs:\n",
        "    labels.append(i.cpu().numpy().argmax(axis = -1))\n",
        "\n",
        "  del outputs\n",
        "  labels = np.concatenate(labels,axis = 0)\n",
        "\n",
        "  @np.vectorize\n",
        "  def get_labels(x):\n",
        "    return tag_values[x]\n",
        "\n",
        "  # For the sentences whose length exceeds MAX_LEN, in above procedure, those sequences were segmented \n",
        "  # into some sequences of MAX_LEN. These sequences are merged below into the original sequence/sentence.\n",
        "  labels = [list(i) for i in get_labels(labels)]\n",
        "\n",
        "  new_sentences = []\n",
        "  new_labels = []\n",
        "  shift = 0\n",
        "\n",
        "  for i in range(len(sentences)):\n",
        "    if to_merge_data[i] != 1:\n",
        "      new_sentences.append(sentences[i].copy())\n",
        "      new_labels.append(labels[i].copy())\n",
        "      shift = 0\n",
        "    else:\n",
        "      shift += 1\n",
        "      new_sentences[-1][37*shift:] = sentences[i].copy()\n",
        "      new_labels[-1][37*shift:] = labels[i].copy()\n",
        "\n",
        "  sentences = new_sentences\n",
        "  labels = new_labels\n",
        "\n",
        "  # Merge the tokens into proper words\n",
        "  temp = labels\n",
        "  labels = []\n",
        "  for i in range(len(sentences)):\n",
        "    labels.append(list(temp[i])[:len(sentences[i])])\n",
        "\n",
        "  new_sentences = []\n",
        "  new_labels = []\n",
        "  mapper = {\n",
        "      'OO' : 'O',\n",
        "      'OB':'B',\n",
        "      'OI':'I',\n",
        "      'OPAD':'O',\n",
        "      'BO':'B',\n",
        "      'BB':'B',\n",
        "      'BI':'B',\n",
        "      'BPAD':'B',\n",
        "      'IO':'I',\n",
        "      'IB':'B',\n",
        "      'II':'I',\n",
        "      'IPAD':'I',\n",
        "      'PADO':'O',\n",
        "      'PADB':'B',\n",
        "      'PADI':'I',\n",
        "      'PADPAD':'PAD'\n",
        "  }\n",
        "  for sentence,label in zip(sentences,labels):\n",
        "    new_sentence = []\n",
        "    new_label = []\n",
        "    for word,lab in zip(sentence,label):\n",
        "      if word.startswith('##'):\n",
        "        new_sentence[-1] += word[2:]\n",
        "        new_label[-1] = mapper[new_label[-1]+lab]\n",
        "      else:\n",
        "        new_sentence.append(word)\n",
        "        new_label.append(lab)\n",
        "    new_sentences.append(new_sentence)\n",
        "    new_labels.append(new_label)\n",
        "\n",
        "  sentences = new_sentences\n",
        "  labels = new_labels\n",
        "  for i,j in zip(sentences,labels):\n",
        "    assert(len(i) == len(j))\n",
        "\n",
        "  if get_spans:\n",
        "    return sentences,labels,get_span_from_predictions(raw,sentences,labels)  \n",
        "  else:\n",
        "    return sentences,labels"
      ],
      "metadata": {
        "id": "N39j6v8-ZmEL",
        "execution": {
          "iopub.status.busy": "2022-04-06T12:15:14.802245Z",
          "iopub.execute_input": "2022-04-06T12:15:14.802746Z",
          "iopub.status.idle": "2022-04-06T12:15:14.838673Z",
          "shell.execute_reply.started": "2022-04-06T12:15:14.802692Z",
          "shell.execute_reply": "2022-04-06T12:15:14.83797Z"
        },
        "trusted": true
      },
      "execution_count": null,
      "outputs": []
    },
    {
      "cell_type": "markdown",
      "source": [
        "#####Helper Function for Model Evaluation"
      ],
      "metadata": {
        "id": "bPUnWvs0-Qns"
      }
    },
    {
      "cell_type": "code",
      "source": [
        "TEST_PATH = \"/content/drive/MyDrive/CMED/Data/trainingdata_v3/dev\"\n",
        "\n",
        "def evaluate_model(PATH,tag_values,assert_data_validity = True):\n",
        "    \n",
        "    if '_evaluate_model_files' not in globals() or '_evaluate_model_test_data' not in globals():\n",
        "        global _evaluate_model_files,_evaluate_model_test_data\n",
        "        test,files = read_annotated_files(PATH) \n",
        "        files = [i for i in files if i.endswith('.txt')]\n",
        "\n",
        "        def extract_values(x):\n",
        "            return x[\"Word\"],x[\"Tag\"].apply(lambda x:x[0])\n",
        "\n",
        "        _evaluate_model_test_data = test.groupby(\"Doc_Id\").apply(extract_values)\n",
        "        _evaluate_model_files = files\n",
        "    \n",
        "    tag2idx = {t: i for i, t in enumerate(tag_values)}   \n",
        "    out = _evaluate_model_test_data\n",
        "    files = _evaluate_model_files\n",
        "    \n",
        "    cnf_matrix = np.zeros((4,4),dtype = np.int32)\n",
        "    \n",
        "    for i in range(len(files)):\n",
        "        sentences,labels = get_ner_predictions(files[i],model,tokenizer,tag_values)   \n",
        "        rv_sentence = []\n",
        "        rv_label = []\n",
        "        for _sent,_lab in zip(sentences,labels):\n",
        "            rv_sentence.extend(_sent)\n",
        "            rv_label.extend(_lab)\n",
        "        \n",
        "        if assert_data_validity:\n",
        "            sentence,label = get_tokenized_sentences_and_labels([list(out.__getitem__(str(i+1))[0])],[list(out.__getitem__(str(i+1))[1])],tokenizer)\n",
        "            sentence,label = sentence[0],label[0]\n",
        "\n",
        "            new_sentence = []\n",
        "            new_label = []\n",
        "            for word,lab in zip(sentence,label):\n",
        "              if word.startswith('##'):\n",
        "                new_sentence[-1] += word[2:]\n",
        "                new_label[-1] = lab\n",
        "              else:\n",
        "                new_sentence.append(word)\n",
        "                new_label.append(lab)\n",
        "\n",
        "            assert(np.all(np.array(rv_sentence) == np.array(new_sentence))),\"Test sentence and Train input sentence mismatch. Please review the code\"\n",
        "\n",
        "        test_sentence,test_label = out.__getitem__(str(i+1))\n",
        "        checker = list(test_sentence)\n",
        "        test_label = list(test_label)\n",
        "        ptr = 0\n",
        "        count_labels = np.zeros((4,))\n",
        "        for r in range(len(rv_sentence)):\n",
        "            if checker[ptr].find(rv_sentence[r]) == -1:\n",
        "                ptr += 1\n",
        "                cnf_matrix[tag2idx[test_label[ptr-1]]][np.argmax(count_labels)] += 1\n",
        "                count_labels = np.zeros((4,))\n",
        "            checker[ptr] = checker[ptr][checker[ptr].find(rv_sentence[r])+len(rv_sentence[r]):]\n",
        "            count_labels[tag2idx[rv_label[r]]] += 1\n",
        "        cnf_matrix[tag2idx[test_label[ptr-1]]][np.argmax(count_labels)] += 1\n",
        "        \n",
        "    p = np.nan_to_num(cnf_matrix.diagonal() / cnf_matrix.sum(axis = 0),1)\n",
        "    r = np.nan_to_num(cnf_matrix.diagonal() / cnf_matrix.sum(axis = 1),1)\n",
        "\n",
        "    return {\"confusion matrix\": cnf_matrix,\"accuracy\": cnf_matrix.diagonal().sum() / cnf_matrix.sum(),\"f1_score[macro]\":np.nan_to_num((2*p*r)/(p+r),0).mean()}"
      ],
      "metadata": {
        "trusted": true,
        "id": "woPd3bdF-Qnt"
      },
      "execution_count": null,
      "outputs": []
    },
    {
      "cell_type": "markdown",
      "source": [
        "##### Helper Functions for BERT Training"
      ],
      "metadata": {
        "id": "XbbnJhffCdyC"
      }
    },
    {
      "cell_type": "code",
      "source": [
        "from sklearn.metrics import confusion_matrix\n",
        "\n",
        "def plot_confusion_matrix(cnf_matrix,title = None):\n",
        "    plt.figure(figsize = (3.3,3.3))\n",
        "    sns.heatmap(cnf_matrix,annot = True,cbar = False)\n",
        "    plt.xticks([0.5,1.5,2.5,3.5])\n",
        "    plt.yticks([0.5,1.5,2.5,3.5])\n",
        "    plt.xlabel(\"Predicted Class\")\n",
        "    plt.ylabel(\"True Class\")\n",
        "    plt.gca().set_xticklabels([tag_values[w] for w in range(4)])\n",
        "    plt.gca().set_yticklabels([tag_values[w] for w in range(4)])\n",
        "    plt.gca().xaxis.set_ticks_position(\"top\")\n",
        "    plt.gca().xaxis.set_label_position(\"top\")\n",
        "    if title:\n",
        "        plt.title(title)"
      ],
      "metadata": {
        "id": "jd143z6KOPQr"
      },
      "execution_count": null,
      "outputs": []
    },
    {
      "cell_type": "code",
      "source": [
        "def finetune_procedure_bert_for_ner(model,epochs,dataloader_train,optimizer,criterion = None,scheduler = None,max_grad_norm = 1.0,early_stopping = False,patience = 5,stopping_criteria = None,PATH = None):\n",
        "    device = torch.device(\"cuda\" if torch.cuda.is_available() else \"cpu\")\n",
        "    if torch.cuda.is_available():\n",
        "      model.cuda()\n",
        "    if early_stopping:\n",
        "      assert(PATH is not None)\n",
        "      curp = 0\n",
        "      best_score = 0\n",
        "\n",
        "    history = {\n",
        "        \"average_train_loss_per_batch_on_tokens\" : [],\n",
        "        \"test_confusion_matrix\" : [],\n",
        "        \"test_f1_score_macro\" : [],\n",
        "        \"test_accuracy_score\" : []\n",
        "    }\n",
        "    \n",
        "    for i in range(1,1+epochs):\n",
        "        print(\"Epoch number {}:\".format(i))\n",
        "        \n",
        "        # ========================================\n",
        "        #              Training\n",
        "        # ========================================\n",
        "        model.train()\n",
        "        iterator_dataloader_train = iter(dataloader_train)\n",
        "        train_loss = 0\n",
        "        cnf_matrix = np.zeros((4,4))\n",
        "        \n",
        "        for _ in trange(len(dataloader_train)):\n",
        "            \n",
        "            batch = next(iterator_dataloader_train)\n",
        "            train_input,train_mask,train_label = (i.to(device) for i in batch)\n",
        "            \n",
        "            model.zero_grad()\n",
        "            \n",
        "            outputs = model(train_input, token_type_ids=None, attention_mask=train_mask, labels=train_label)\n",
        "            \n",
        "            if criterion is not None:\n",
        "                loss = criterion(outputs[1].reshape(-1,4),train_label.reshape(-1))\n",
        "            else:\n",
        "                loss = outputs[0]\n",
        "            \n",
        "            loss.backward()\n",
        "            train_loss += loss.item()\n",
        "            \n",
        "            torch.nn.utils.clip_grad_norm_(parameters = model.parameters(),max_norm = max_grad_norm)\n",
        "            \n",
        "            optimizer.step()\n",
        "            if scheduler is not None:\n",
        "                scheduler.step()\n",
        "                \n",
        "            x = confusion_matrix(train_label.detach().to(\"cpu\").numpy().ravel(),outputs[1].detach().to(\"cpu\").numpy().argmax(axis = -1).ravel())\n",
        "            cnf_matrix += np.pad(x,[0,4 - x.shape[0]])\n",
        "            \n",
        "        history[\"average_train_loss_per_batch_on_tokens\"].append( train_loss / len(dataloader_train) )\n",
        "        print(\"Average_Train_Loss_per_Batch [On Tokens]:\",history[\"average_train_loss_per_batch_on_tokens\"][-1])\n",
        "        plot_confusion_matrix(cnf_matrix,\"Training_Epoch_[Confusion Matrix on Tokens]{}\".format(i))\n",
        "          \n",
        "        # ========================================\n",
        "        #              Validation\n",
        "        # ========================================\n",
        "        \n",
        "        evals = evaluate_model(TEST_PATH,tag_values)\n",
        "\n",
        "        history[\"test_confusion_matrix\"].append( evals['confusion matrix'] )\n",
        "        history[\"test_f1_score_macro\"].append( evals['f1_score[macro]'] )\n",
        "        history[\"test_accuracy_score\"].append( evals['accuracy'] )\n",
        "\n",
        "        print(\"Test accuracy : \",history[\"test_accuracy_score\"][-1])\n",
        "        print(\"Test F1 score : \",history[\"test_f1_score_macro\"][-1])\n",
        "        plot_confusion_matrix(history[\"test_confusion_matrix\"][-1],\"Test_Epoch_[Confusion Matrix On Test Words]{}\".format(i))\n",
        "\n",
        "        if early_stopping:\n",
        "          if stopping_criteria != None:\n",
        "            current_score = stopping_criteria(history[\"test_confusion_matrix\"][-1])\n",
        "          else :\n",
        "            current_score = evals['f1_score[macro]']\n",
        "          if best_score < current_score:\n",
        "            torch.save(model.state_dict(), PATH)\n",
        "            best_score = current_score\n",
        "            curp = 0\n",
        "          else:\n",
        "            curp += 1\n",
        "            if curp > patience:\n",
        "              break\n",
        "          print(\"Stopping Criteria Score : {} , Steps_with_lower_than_current_criteria_score_maxima : {}\".format(current_score,curp))\n",
        "\n",
        "    return history"
      ],
      "metadata": {
        "id": "YYoH-MeCLRIt",
        "execution": {
          "iopub.status.busy": "2022-04-06T09:17:05.293404Z",
          "iopub.execute_input": "2022-04-06T09:17:05.294208Z",
          "iopub.status.idle": "2022-04-06T09:17:05.325907Z",
          "shell.execute_reply.started": "2022-04-06T09:17:05.294166Z",
          "shell.execute_reply": "2022-04-06T09:17:05.325149Z"
        },
        "trusted": true
      },
      "execution_count": null,
      "outputs": []
    },
    {
      "cell_type": "code",
      "source": [
        "def print_training_results(history):\n",
        "    func = lambda x: x.diagonal() / x.sum(axis = 1)\n",
        "    fig,ax = plt.subplots(1,2,figsize = (12,3))\n",
        "    ax[0].plot(history[\"average_train_loss_per_batch_on_tokens\"])\n",
        "    ax[1].plot(history[\"test_f1_score_macro\"])\n",
        "    ax[1].plot(history[\"test_accuracy_score\"])\n",
        "    ax[0].set_title(\"average_train_loss_per_batch\")\n",
        "    ax[1].set_title(\"metrics on test data\")\n",
        "    ax[1].legend([\"test_f1_score_macro\",\"test_accuracy_score\"])"
      ],
      "metadata": {
        "id": "d3wADWztcizZ",
        "execution": {
          "iopub.status.busy": "2022-04-06T09:17:05.327595Z",
          "iopub.execute_input": "2022-04-06T09:17:05.328576Z",
          "iopub.status.idle": "2022-04-06T09:17:05.342218Z",
          "shell.execute_reply.started": "2022-04-06T09:17:05.328534Z",
          "shell.execute_reply": "2022-04-06T09:17:05.341349Z"
        },
        "trusted": true
      },
      "execution_count": null,
      "outputs": []
    },
    {
      "cell_type": "code",
      "source": [
        "def compile(FULL_FINETUNING,with_intermediate = False):    # With intermediate parameter is only for BioElectra Bert\n",
        "    global optimizer,scheduler\n",
        "    \n",
        "    if FULL_FINETUNING:\n",
        "        param_optimizer = list(model.named_parameters()) \n",
        "        no_decay = ['bias', 'gamma', 'beta']\n",
        "        optimizer_grouped_parameters = [\n",
        "            {'params': [p for n, p in param_optimizer if not any(nd in n for nd in no_decay)],\n",
        "             'weight_decay_rate': 0.01},\n",
        "            {'params': [p for n, p in param_optimizer if any(nd in n for nd in no_decay)],\n",
        "             'weight_decay_rate': 0.0}\n",
        "        ]\n",
        "    else:\n",
        "        if with_intermediate:\n",
        "            param_optimizer = list(model.classifier.named_parameters()) + list(model.intermediate.named_parameters())\n",
        "        else:\n",
        "            param_optimizer = list(model.classifier.named_parameters())\n",
        "        optimizer_grouped_parameters = [{\"params\": [p for n, p in param_optimizer]}]\n",
        "\n",
        "    optimizer = AdamW(\n",
        "        optimizer_grouped_parameters,\n",
        "        lr=3e-5,\n",
        "        eps=1e-8\n",
        "    )\n",
        "    \n",
        "    global epochs\n",
        "    max_grad_norm = 1.0\n",
        "\n",
        "    total_steps = len(train_dataloader) * epochs\n",
        "    scheduler = get_linear_schedule_with_warmup(\n",
        "        optimizer,\n",
        "        num_warmup_steps=0,\n",
        "        num_training_steps=total_steps\n",
        "    )"
      ],
      "metadata": {
        "id": "vs4Xm1l_Si-7",
        "execution": {
          "iopub.status.busy": "2022-04-06T09:17:05.343944Z",
          "iopub.execute_input": "2022-04-06T09:17:05.344531Z",
          "iopub.status.idle": "2022-04-06T09:17:05.357437Z",
          "shell.execute_reply.started": "2022-04-06T09:17:05.344491Z",
          "shell.execute_reply": "2022-04-06T09:17:05.356677Z"
        },
        "trusted": true
      },
      "execution_count": null,
      "outputs": []
    },
    {
      "cell_type": "markdown",
      "source": [
        "#### Training Bert Models"
      ],
      "metadata": {
        "id": "u0kts3OELItj"
      }
    },
    {
      "cell_type": "markdown",
      "source": [
        "##### bert-base-cased"
      ],
      "metadata": {
        "id": "JkVn0KUyMeXs"
      }
    },
    {
      "cell_type": "code",
      "source": [
        "import transformers\n",
        "from transformers import BertForTokenClassification, AdamW\n",
        "from transformers import get_linear_schedule_with_warmup"
      ],
      "metadata": {
        "id": "VTM5I8OlIp9D",
        "execution": {
          "iopub.status.busy": "2022-04-06T09:28:38.180264Z",
          "iopub.execute_input": "2022-04-06T09:28:38.180568Z",
          "iopub.status.idle": "2022-04-06T09:28:38.187254Z",
          "shell.execute_reply.started": "2022-04-06T09:28:38.180535Z",
          "shell.execute_reply": "2022-04-06T09:28:38.186561Z"
        },
        "trusted": true
      },
      "execution_count": null,
      "outputs": []
    },
    {
      "cell_type": "code",
      "source": [
        "model = BertForTokenClassification.from_pretrained(\n",
        "    \"bert-base-cased\",\n",
        "    num_labels=len(tag2idx),\n",
        "    output_attentions = False,\n",
        "    output_hidden_states = False\n",
        ")"
      ],
      "metadata": {
        "id": "nAVL1KQqKxmy",
        "outputId": "e5c6b385-8bf2-469a-c794-522e3dd938f9",
        "execution": {
          "iopub.status.busy": "2022-04-06T09:28:38.554836Z",
          "iopub.execute_input": "2022-04-06T09:28:38.555314Z",
          "iopub.status.idle": "2022-04-06T09:28:53.366652Z",
          "shell.execute_reply.started": "2022-04-06T09:28:38.555276Z",
          "shell.execute_reply": "2022-04-06T09:28:53.365913Z"
        },
        "trusted": true,
        "colab": {
          "base_uri": "https://localhost:8080/"
        }
      },
      "execution_count": null,
      "outputs": [
        {
          "output_type": "stream",
          "name": "stderr",
          "text": [
            "Some weights of the model checkpoint at bert-base-cased were not used when initializing BertForTokenClassification: ['cls.predictions.bias', 'cls.predictions.transform.dense.weight', 'cls.predictions.transform.dense.bias', 'cls.predictions.decoder.weight', 'cls.seq_relationship.weight', 'cls.seq_relationship.bias', 'cls.predictions.transform.LayerNorm.weight', 'cls.predictions.transform.LayerNorm.bias']\n",
            "- This IS expected if you are initializing BertForTokenClassification from the checkpoint of a model trained on another task or with another architecture (e.g. initializing a BertForSequenceClassification model from a BertForPreTraining model).\n",
            "- This IS NOT expected if you are initializing BertForTokenClassification from the checkpoint of a model that you expect to be exactly identical (initializing a BertForSequenceClassification model from a BertForSequenceClassification model).\n",
            "Some weights of BertForTokenClassification were not initialized from the model checkpoint at bert-base-cased and are newly initialized: ['classifier.weight', 'classifier.bias']\n",
            "You should probably TRAIN this model on a down-stream task to be able to use it for predictions and inference.\n"
          ]
        }
      ]
    },
    {
      "cell_type": "code",
      "source": [
        "FULL_FINETUNING = True\n",
        "\n",
        "############################################################\n",
        "\n",
        "if FULL_FINETUNING:\n",
        "    param_optimizer = list(model.named_parameters())\n",
        "    no_decay = ['bias', 'gamma', 'beta']\n",
        "    optimizer_grouped_parameters = [\n",
        "        {'params': [p for n, p in param_optimizer if not any(nd in n for nd in no_decay)],\n",
        "         'weight_decay_rate': 0.01},\n",
        "        {'params': [p for n, p in param_optimizer if any(nd in n for nd in no_decay)],\n",
        "         'weight_decay_rate': 0.0}\n",
        "    ]\n",
        "else:\n",
        "    param_optimizer = list(model.classifier.named_parameters())\n",
        "    optimizer_grouped_parameters = [{\"params\": [p for n, p in param_optimizer]}]\n",
        "\n",
        "optimizer = AdamW(\n",
        "    optimizer_grouped_parameters,\n",
        "    lr=3e-5,\n",
        "    eps=1e-8\n",
        ")"
      ],
      "metadata": {
        "id": "OHr-24tOK3Gc",
        "execution": {
          "iopub.status.busy": "2022-04-06T08:18:26.597809Z",
          "iopub.execute_input": "2022-04-06T08:18:26.598076Z",
          "iopub.status.idle": "2022-04-06T08:18:26.611298Z",
          "shell.execute_reply.started": "2022-04-06T08:18:26.598038Z",
          "shell.execute_reply": "2022-04-06T08:18:26.610445Z"
        },
        "trusted": true
      },
      "execution_count": null,
      "outputs": []
    },
    {
      "cell_type": "code",
      "source": [
        "epochs = 3\n",
        "max_grad_norm = 1.0\n",
        "\n",
        "#############################################\n",
        "\n",
        "total_steps = len(train_dataloader) * epochs\n",
        "scheduler = get_linear_schedule_with_warmup(\n",
        "    optimizer,\n",
        "    num_warmup_steps=0,\n",
        "    num_training_steps=total_steps\n",
        ")"
      ],
      "metadata": {
        "id": "XNa1ERRoK_Tl",
        "execution": {
          "iopub.status.busy": "2022-04-06T08:18:26.612973Z",
          "iopub.execute_input": "2022-04-06T08:18:26.613313Z",
          "iopub.status.idle": "2022-04-06T08:18:26.619711Z",
          "shell.execute_reply.started": "2022-04-06T08:18:26.613274Z",
          "shell.execute_reply": "2022-04-06T08:18:26.618798Z"
        },
        "trusted": true
      },
      "execution_count": null,
      "outputs": []
    },
    {
      "cell_type": "code",
      "source": [
        "class_weight = [np.sum(np.array([np.sum(np.array(j) == tag2idx[w]) for j in tags])) for w in tag_values]\n",
        "class_weight = 1 / np.array(class_weight,dtype = np.float32)\n",
        "class_weight = np.array(class_weight) / np.array(class_weight).sum()\n",
        "\n",
        "criterion = torch.nn.CrossEntropyLoss(weight=torch.tensor(class_weight).to(\"cuda\" if torch.cuda.is_available() else \"cpu\"))"
      ],
      "metadata": {
        "id": "3hyE30ZGtYmi",
        "execution": {
          "iopub.status.busy": "2022-04-06T08:18:26.621371Z",
          "iopub.execute_input": "2022-04-06T08:18:26.621756Z",
          "iopub.status.idle": "2022-04-06T08:18:35.786456Z",
          "shell.execute_reply.started": "2022-04-06T08:18:26.621718Z",
          "shell.execute_reply": "2022-04-06T08:18:35.785725Z"
        },
        "trusted": true
      },
      "execution_count": null,
      "outputs": []
    },
    {
      "cell_type": "code",
      "source": [
        "try :\n",
        "    os.mkdir(\"BERT_BASE_CASED\")\n",
        "except:\n",
        "    pass"
      ],
      "metadata": {
        "id": "Zfu1xdFlR09t",
        "execution": {
          "iopub.status.busy": "2022-04-06T08:18:35.787621Z",
          "iopub.execute_input": "2022-04-06T08:18:35.789568Z",
          "iopub.status.idle": "2022-04-06T08:18:35.795849Z",
          "shell.execute_reply.started": "2022-04-06T08:18:35.789536Z",
          "shell.execute_reply": "2022-04-06T08:18:35.795113Z"
        },
        "trusted": true
      },
      "execution_count": null,
      "outputs": []
    },
    {
      "cell_type": "code",
      "source": [
        "history = finetune_procedure_bert_for_ner(model,epochs,train_dataloader,optimizer,criterion,scheduler,max_grad_norm,early_stopping = True,patience = 15,PATH = \"BERT_BASE_CASED/state_dict\")"
      ],
      "metadata": {
        "id": "o8Wv5mq9NlX4",
        "outputId": "aec9a922-2167-47b3-f2b0-8aee2c3a8964",
        "execution": {
          "iopub.status.busy": "2022-04-06T08:18:35.797102Z",
          "iopub.execute_input": "2022-04-06T08:18:35.797432Z",
          "iopub.status.idle": "2022-04-06T08:19:08.497458Z",
          "shell.execute_reply.started": "2022-04-06T08:18:35.797394Z",
          "shell.execute_reply": "2022-04-06T08:19:08.496023Z"
        },
        "trusted": true,
        "colab": {
          "base_uri": "https://localhost:8080/",
          "height": 1000
        }
      },
      "execution_count": null,
      "outputs": [
        {
          "metadata": {
            "tags": null
          },
          "name": "stdout",
          "output_type": "stream",
          "text": [
            "Epoch number 1:\n"
          ]
        },
        {
          "metadata": {
            "tags": null
          },
          "name": "stderr",
          "output_type": "stream",
          "text": [
            "100%|██████████| 550/550 [07:50<00:00,  1.17it/s]\n"
          ]
        },
        {
          "output_type": "stream",
          "name": "stdout",
          "text": [
            "Average_Train_Loss_per_Batch [On Tokens]: 0.2524342129057781\n",
            "Reading Files\n",
            "25 50 "
          ]
        },
        {
          "output_type": "stream",
          "name": "stderr",
          "text": [
            "/usr/local/lib/python3.7/dist-packages/ipykernel_launcher.py:61: RuntimeWarning: invalid value encountered in true_divide\n",
            "/usr/local/lib/python3.7/dist-packages/ipykernel_launcher.py:63: RuntimeWarning: invalid value encountered in true_divide\n"
          ]
        },
        {
          "output_type": "stream",
          "name": "stdout",
          "text": [
            "Test accuracy :  0.978324645411565\n",
            "Test F1 score :  0.5495432328879746\n",
            "Stopping Criteria Score : 0.5495432328879746 , Steps_with_lower_than_current_criteria_score_maxima : 0\n",
            "Epoch number 2:\n"
          ]
        },
        {
          "output_type": "stream",
          "name": "stderr",
          "text": [
            "100%|██████████| 550/550 [07:46<00:00,  1.18it/s]\n"
          ]
        },
        {
          "output_type": "stream",
          "name": "stdout",
          "text": [
            "Average_Train_Loss_per_Batch [On Tokens]: 0.0660219820663968\n"
          ]
        },
        {
          "output_type": "stream",
          "name": "stderr",
          "text": [
            "/usr/local/lib/python3.7/dist-packages/ipykernel_launcher.py:61: RuntimeWarning: invalid value encountered in true_divide\n",
            "/usr/local/lib/python3.7/dist-packages/ipykernel_launcher.py:63: RuntimeWarning: invalid value encountered in true_divide\n"
          ]
        },
        {
          "output_type": "stream",
          "name": "stdout",
          "text": [
            "Test accuracy :  0.9862528791368651\n",
            "Test F1 score :  0.5676804850765679\n",
            "Stopping Criteria Score : 0.5676804850765679 , Steps_with_lower_than_current_criteria_score_maxima : 0\n",
            "Epoch number 3:\n"
          ]
        },
        {
          "output_type": "stream",
          "name": "stderr",
          "text": [
            "100%|██████████| 550/550 [07:46<00:00,  1.18it/s]\n"
          ]
        },
        {
          "output_type": "stream",
          "name": "stdout",
          "text": [
            "Average_Train_Loss_per_Batch [On Tokens]: 0.026239682035467757\n"
          ]
        },
        {
          "output_type": "stream",
          "name": "stderr",
          "text": [
            "/usr/local/lib/python3.7/dist-packages/ipykernel_launcher.py:61: RuntimeWarning: invalid value encountered in true_divide\n",
            "/usr/local/lib/python3.7/dist-packages/ipykernel_launcher.py:63: RuntimeWarning: invalid value encountered in true_divide\n"
          ]
        },
        {
          "output_type": "stream",
          "name": "stdout",
          "text": [
            "Test accuracy :  0.9923627106315918\n",
            "Test F1 score :  0.6358164040924414\n",
            "Stopping Criteria Score : 0.6358164040924414 , Steps_with_lower_than_current_criteria_score_maxima : 0\n"
          ]
        },
        {
          "output_type": "display_data",
          "data": {
            "text/plain": [
              "<Figure size 237.6x237.6 with 1 Axes>"
            ],
            "image/png": "[encoded data removed]"
          },
          "metadata": {
            "needs_background": "light"
          }
        },
        {
          "output_type": "display_data",
          "data": {
            "text/plain": [
              "<Figure size 237.6x237.6 with 1 Axes>"
            ],
            "image/png": "[encoded data removed]"
          },
          "metadata": {
            "needs_background": "light"
          }
        },
        {
          "output_type": "display_data",
          "data": {
            "text/plain": [
              "<Figure size 237.6x237.6 with 1 Axes>"
            ],
            "image/png": "[encoded data removed]"
          },
          "metadata": {
            "needs_background": "light"
          }
        }
      ]
    },
    {
      "cell_type": "code",
      "source": [
        "print_training_results(history)"
      ],
      "metadata": {
        "colab": {
          "base_uri": "https://localhost:8080/",
          "height": 227
        },
        "id": "4GgEJDOu1sEK",
        "outputId": "bad0dcc9-efc2-4663-d876-c11ad834cfdc"
      },
      "execution_count": null,
      "outputs": [
        {
          "output_type": "display_data",
          "data": {
            "text/plain": [
              "<Figure size 864x216 with 2 Axes>"
            ],
            "image/png": "[encoded data removed]"
          },
          "metadata": {
            "needs_background": "light"
          }
        }
      ]
    },
    {
      "cell_type": "markdown",
      "source": [
        "##### Bio-Clinical Bert"
      ],
      "metadata": {
        "id": "r_08AackRKT0"
      }
    },
    {
      "cell_type": "code",
      "source": [
        "class Token_Classifier_With_Pretrained_Bert_Base(torch.nn.Module):\n",
        "  def __init__(self,base,classes = 4):\n",
        "    super().__init__()\n",
        "    self.n_classes = classes\n",
        "    self.base = base\n",
        "    self.dropout = torch.nn.Dropout(p=0.1, inplace=False)\n",
        "    self.classifier = torch.nn.Linear(in_features=768, out_features=classes, bias=True)\n",
        "    self.criterion = torch.nn.CrossEntropyLoss()\n",
        "\n",
        "  def forward(self,bert_input,attention_mask,token_type_ids = None,labels = None):\n",
        "    out = self.base(bert_input,attention_mask = attention_mask,token_type_ids = None)[0]\n",
        "    out = self.dropout(out)\n",
        "    out = self.classifier(out)\n",
        "    if labels is None:\n",
        "      return out\n",
        "    else:\n",
        "      return (self.criterion(out.reshape(-1,4),labels.reshape(-1)),out)"
      ],
      "metadata": {
        "id": "fk4jrDBoOwzW",
        "execution": {
          "iopub.status.busy": "2022-04-05T06:10:21.858937Z",
          "iopub.execute_input": "2022-04-05T06:10:21.859158Z",
          "iopub.status.idle": "2022-04-05T06:10:21.873256Z",
          "shell.execute_reply.started": "2022-04-05T06:10:21.859132Z",
          "shell.execute_reply": "2022-04-05T06:10:21.872392Z"
        },
        "trusted": true
      },
      "execution_count": null,
      "outputs": []
    },
    {
      "cell_type": "code",
      "source": [
        "from transformers import AutoTokenizer, AutoModel\n",
        "\n",
        "tokenizer = AutoTokenizer.from_pretrained(\"emilyalsentzer/Bio_ClinicalBERT\")\n",
        "base_model = AutoModel.from_pretrained(\"emilyalsentzer/Bio_ClinicalBERT\")\n",
        "model = Token_Classifier_With_Pretrained_Bert_Base(base_model,4)"
      ],
      "metadata": {
        "id": "L9eEtE48RdZi",
        "execution": {
          "iopub.status.busy": "2022-04-05T06:10:44.878547Z",
          "iopub.execute_input": "2022-04-05T06:10:44.879083Z",
          "iopub.status.idle": "2022-04-05T06:11:00.883725Z",
          "shell.execute_reply.started": "2022-04-05T06:10:44.879045Z",
          "shell.execute_reply": "2022-04-05T06:11:00.882974Z"
        },
        "trusted": true,
        "colab": {
          "base_uri": "https://localhost:8080/",
          "height": 113,
          "referenced_widgets": [
            "0ccd2d9e75474d88a01d001f6b49c820",
            "3f8591674a3b4e34839d599f7aebaf5c",
            "7d241e4928e44d039902860478c0281a",
            "426443d6654548159223e51e1f08921d",
            "4a5308f9e35a42558d2b5c3f648b1aae",
            "f64f8f2e7f5a4fe9b0e6d2616d645351",
            "0b5cd92692e24a0ebf58f768b23add5d",
            "75ac8a7384604c85b9fae8fd89ffc70e",
            "4d3fe43f36b34c63a39514f3024f6446",
            "8c33e44885854f00bb19e594ba56a171",
            "c6985ac657854e3a8a00470163c1edb5",
            "0f196f1afb304198af33099e1f34a8d1",
            "714e2d3399d744e988f7a99b0456a5e4",
            "31a1bf30e77f4ac5a6866ac422931bd9",
            "c39c893d48374eaa9c6cbea4a9e15eed",
            "5799287d33a047ce87d0df5b78d71fef",
            "f87d2ea688e741dea9e87d4a62d93064",
            "5090a6a5b9c54458a1fa4dba10b0087f",
            "9214707f582c4a03b5365fc77819c10d",
            "7f51d71955234c7a989a1393eefa16f9",
            "ae4605aff8934d76b568bdf89a0819be",
            "8b286cdc89b7463bab6baffebf1b0e72",
            "0975b65661a440118e5826a0a0085653",
            "5510dd88c83d4f14a09b2d34209267ba",
            "5d58c2ce3c0b4db78c217599fc454271",
            "e7fcb1ac8e6e492f9bd26ac27fa7306b",
            "633b0077a6154bf693c29ebf018fddbf",
            "a04366fa22c449b584d01c666f4021f4",
            "e322b8e75b8941ed9b3479b07b985a8e",
            "bbd1bded42814e6e8bd14d1fc79375e9",
            "fdbc0a307ba9433f8063f1521ca7530a",
            "91795d1105774832a0e812a159291457",
            "f875f9c5b4f646978830e4ab9c24da94"
          ]
        },
        "outputId": "ab9d2688-4f62-4762-f35f-21aba2b2b34d"
      },
      "execution_count": null,
      "outputs": [
        {
          "output_type": "display_data",
          "data": {
            "text/plain": [
              "Downloading:   0%|          | 0.00/385 [00:00<?, ?B/s]"
            ],
            "application/vnd.jupyter.widget-view+json": {
              "version_major": 2,
              "version_minor": 0,
              "model_id": "0ccd2d9e75474d88a01d001f6b49c820"
            }
          },
          "metadata": {}
        },
        {
          "output_type": "display_data",
          "data": {
            "text/plain": [
              "Downloading:   0%|          | 0.00/213k [00:00<?, ?B/s]"
            ],
            "application/vnd.jupyter.widget-view+json": {
              "version_major": 2,
              "version_minor": 0,
              "model_id": "0f196f1afb304198af33099e1f34a8d1"
            }
          },
          "metadata": {}
        },
        {
          "output_type": "display_data",
          "data": {
            "text/plain": [
              "Downloading:   0%|          | 0.00/436M [00:00<?, ?B/s]"
            ],
            "application/vnd.jupyter.widget-view+json": {
              "version_major": 2,
              "version_minor": 0,
              "model_id": "0975b65661a440118e5826a0a0085653"
            }
          },
          "metadata": {}
        }
      ]
    },
    {
      "cell_type": "code",
      "source": [
        "sentences = saved_sentences\n",
        "labels = saved_labels\n",
        "\n",
        "sentences,labels = get_tokenized_sentences_and_labels(sentences,labels,tokenizer)\n",
        "normalize_longer_sequences()\n",
        "\n",
        "for i,j in zip(sentences,labels):\n",
        "  assert(len(i) == len(j))\n",
        "\n",
        "input_ids = pad_sequences([tokenizer.convert_tokens_to_ids(txt) for txt in sentences],\n",
        "                          maxlen=MAX_LEN, dtype=\"long\", value=0.0,\n",
        "                          truncating=\"post\", padding=\"post\")\n",
        "\n",
        "tags = pad_sequences([[tag2idx.get(l) for l in lab] for lab in labels],\n",
        "                     maxlen=MAX_LEN, value=tag2idx[\"PAD\"], padding=\"post\",\n",
        "                     dtype=\"long\", truncating=\"post\")\n",
        "\n",
        "attention_masks = [[float(i != 0.0) for i in ii] for ii in input_ids]\n",
        "\n",
        "tr_inputs, tr_tags, tr_masks = input_ids, tags, attention_masks\n",
        "\n",
        "tr_inputs = torch.tensor(tr_inputs)\n",
        "tr_tags = torch.tensor(tr_tags)\n",
        "tr_masks = torch.tensor(tr_masks)\n",
        "\n",
        "train_data = TensorDataset(tr_inputs, tr_masks, tr_tags)\n",
        "train_sampler = RandomSampler(train_data)\n",
        "train_dataloader = DataLoader(train_data, sampler=train_sampler, batch_size=batch_size)"
      ],
      "metadata": {
        "id": "PFzrxOvzT9Gh",
        "execution": {
          "iopub.status.busy": "2022-04-05T06:11:00.885267Z",
          "iopub.execute_input": "2022-04-05T06:11:00.88577Z",
          "iopub.status.idle": "2022-04-05T06:11:20.633167Z",
          "shell.execute_reply.started": "2022-04-05T06:11:00.88573Z",
          "shell.execute_reply": "2022-04-05T06:11:20.632333Z"
        },
        "trusted": true,
        "colab": {
          "base_uri": "https://localhost:8080/"
        },
        "outputId": "54603970-97a8-4db0-a102-a0ae9a99bab3"
      },
      "execution_count": null,
      "outputs": [
        {
          "output_type": "stream",
          "name": "stderr",
          "text": [
            "<string>:6: VisibleDeprecationWarning: Creating an ndarray from ragged nested sequences (which is a list-or-tuple of lists-or-tuples-or ndarrays with different lengths or shapes) is deprecated. If you meant to do this, you must specify 'dtype=object' when creating the ndarray.\n"
          ]
        }
      ]
    },
    {
      "cell_type": "code",
      "source": [
        "FULL_FINETUNING = True\n",
        "\n",
        "###########################################\n",
        "\n",
        "if FULL_FINETUNING:\n",
        "    param_optimizer = list(model.named_parameters())\n",
        "    no_decay = ['bias', 'gamma', 'beta']\n",
        "    optimizer_grouped_parameters = [\n",
        "        {'params': [p for n, p in param_optimizer if not any(nd in n for nd in no_decay)],\n",
        "         'weight_decay_rate': 0.01},\n",
        "        {'params': [p for n, p in param_optimizer if any(nd in n for nd in no_decay)],\n",
        "         'weight_decay_rate': 0.0}\n",
        "    ]\n",
        "else:\n",
        "    param_optimizer = list(model.classifier.named_parameters())\n",
        "    optimizer_grouped_parameters = [{\"params\": [p for n, p in param_optimizer]}]\n",
        "\n",
        "optimizer = AdamW(\n",
        "    optimizer_grouped_parameters,\n",
        "    lr=3e-5,\n",
        "    eps=1e-8\n",
        ")"
      ],
      "metadata": {
        "id": "0alU6mqcVrTu",
        "execution": {
          "iopub.status.busy": "2022-04-05T06:11:20.634668Z",
          "iopub.execute_input": "2022-04-05T06:11:20.634913Z",
          "iopub.status.idle": "2022-04-05T06:11:20.643469Z",
          "shell.execute_reply.started": "2022-04-05T06:11:20.634879Z",
          "shell.execute_reply": "2022-04-05T06:11:20.642757Z"
        },
        "trusted": true
      },
      "execution_count": null,
      "outputs": []
    },
    {
      "cell_type": "code",
      "source": [
        "epochs = 100\n",
        "max_grad_norm = 1.0\n",
        "\n",
        "#############################################\n",
        "\n",
        "total_steps = len(train_dataloader) * epochs\n",
        "scheduler = get_linear_schedule_with_warmup(\n",
        "    optimizer,\n",
        "    num_warmup_steps=0,\n",
        "    num_training_steps=total_steps\n",
        ")"
      ],
      "metadata": {
        "id": "mhqfbg5YjLT1",
        "execution": {
          "iopub.status.busy": "2022-04-05T06:11:20.645122Z",
          "iopub.execute_input": "2022-04-05T06:11:20.645671Z",
          "iopub.status.idle": "2022-04-05T06:11:20.672809Z",
          "shell.execute_reply.started": "2022-04-05T06:11:20.645629Z",
          "shell.execute_reply": "2022-04-05T06:11:20.672047Z"
        },
        "trusted": true
      },
      "execution_count": null,
      "outputs": []
    },
    {
      "cell_type": "code",
      "source": [
        "class_weight = [np.sum(np.array([np.sum(np.array(j) == tag2idx[w]) for j in tags])) for w in tag_values]\n",
        "class_weight = 1 / np.array(class_weight,dtype = np.float32)\n",
        "class_weight = np.array(class_weight) / np.array(class_weight).sum()\n",
        "\n",
        "criterion = torch.nn.CrossEntropyLoss(weight=torch.tensor(class_weight).to(\"cuda\" if torch.cuda.is_available() else \"cpu\"))"
      ],
      "metadata": {
        "id": "Y46CK1gqja1J",
        "execution": {
          "iopub.status.busy": "2022-04-05T06:11:20.675285Z",
          "iopub.execute_input": "2022-04-05T06:11:20.675556Z",
          "iopub.status.idle": "2022-04-05T06:11:21.299175Z",
          "shell.execute_reply.started": "2022-04-05T06:11:20.675523Z",
          "shell.execute_reply": "2022-04-05T06:11:21.298369Z"
        },
        "trusted": true
      },
      "execution_count": null,
      "outputs": []
    },
    {
      "cell_type": "code",
      "source": [
        "try :\n",
        "    os.mkdir(\"BIO_CLINICAL_BERT\")\n",
        "except:\n",
        "    pass"
      ],
      "metadata": {
        "execution": {
          "iopub.status.busy": "2022-04-05T06:11:21.300373Z",
          "iopub.execute_input": "2022-04-05T06:11:21.302283Z",
          "iopub.status.idle": "2022-04-05T06:11:21.306439Z",
          "shell.execute_reply.started": "2022-04-05T06:11:21.302241Z",
          "shell.execute_reply": "2022-04-05T06:11:21.305377Z"
        },
        "id": "0CK_THr8R09w",
        "trusted": true
      },
      "execution_count": null,
      "outputs": []
    },
    {
      "cell_type": "code",
      "source": [
        "history = finetune_procedure_bert_for_ner(model,epochs,train_dataloader,optimizer,criterion,scheduler,max_grad_norm,early_stopping = True,patience = 15,PATH = \"BIO_CLINICAL_BERT/state_dict\")"
      ],
      "metadata": {
        "id": "Avel3avTjtN_",
        "execution": {
          "iopub.status.busy": "2022-04-05T06:11:21.311503Z",
          "iopub.execute_input": "2022-04-05T06:11:21.312087Z",
          "iopub.status.idle": "2022-04-05T06:11:21.318541Z",
          "shell.execute_reply.started": "2022-04-05T06:11:21.312046Z",
          "shell.execute_reply": "2022-04-05T06:11:21.317504Z"
        },
        "trusted": true,
        "colab": {
          "base_uri": "https://localhost:8080/",
          "height": 636
        },
        "outputId": "7b4fafdb-e844-4c67-b41c-f36a13001dc4"
      },
      "execution_count": 38,
      "outputs": [
        {
          "metadata": {
            "tags": null
          },
          "name": "stdout",
          "output_type": "stream",
          "text": [
            "Epoch number 1:\n"
          ]
        },
        {
          "output_type": "stream",
          "name": "stderr",
          "text": [
            "100%|██████████| 543/543 [07:52<00:00,  1.15it/s]\n"
          ]
        },
        {
          "output_type": "stream",
          "name": "stdout",
          "text": [
            "Average_Train_Loss_per_Batch [On Tokens]: 0.21579097028816133\n"
          ]
        },
        {
          "output_type": "error",
          "ename": "IndexError",
          "evalue": "ignored",
          "traceback": [
            "\u001b[0;31m---------------------------------------------------------------------------\u001b[0m",
            "\u001b[0;31mIndexError\u001b[0m                                Traceback (most recent call last)",
            "\u001b[0;32m<ipython-input-38-0baff0e5e8fc>\u001b[0m in \u001b[0;36m<module>\u001b[0;34m()\u001b[0m\n\u001b[0;32m----> 1\u001b[0;31m \u001b[0mhistory\u001b[0m \u001b[0;34m=\u001b[0m \u001b[0mfinetune_procedure_bert_for_ner\u001b[0m\u001b[0;34m(\u001b[0m\u001b[0mmodel\u001b[0m\u001b[0;34m,\u001b[0m\u001b[0mepochs\u001b[0m\u001b[0;34m,\u001b[0m\u001b[0mtrain_dataloader\u001b[0m\u001b[0;34m,\u001b[0m\u001b[0moptimizer\u001b[0m\u001b[0;34m,\u001b[0m\u001b[0mcriterion\u001b[0m\u001b[0;34m,\u001b[0m\u001b[0mscheduler\u001b[0m\u001b[0;34m,\u001b[0m\u001b[0mmax_grad_norm\u001b[0m\u001b[0;34m,\u001b[0m\u001b[0mearly_stopping\u001b[0m \u001b[0;34m=\u001b[0m \u001b[0;32mTrue\u001b[0m\u001b[0;34m,\u001b[0m\u001b[0mpatience\u001b[0m \u001b[0;34m=\u001b[0m \u001b[0;36m15\u001b[0m\u001b[0;34m,\u001b[0m\u001b[0mPATH\u001b[0m \u001b[0;34m=\u001b[0m \u001b[0;34m\"BIO_CLINICAL_BERT/state_dict\"\u001b[0m\u001b[0;34m)\u001b[0m\u001b[0;34m\u001b[0m\u001b[0;34m\u001b[0m\u001b[0m\n\u001b[0m",
            "\u001b[0;32m<ipython-input-16-f34c13dbb8d7>\u001b[0m in \u001b[0;36mfinetune_procedure_bert_for_ner\u001b[0;34m(model, epochs, dataloader_train, optimizer, criterion, scheduler, max_grad_norm, early_stopping, patience, stopping_criteria, PATH)\u001b[0m\n\u001b[1;32m     60\u001b[0m         \u001b[0;31m# ========================================\u001b[0m\u001b[0;34m\u001b[0m\u001b[0;34m\u001b[0m\u001b[0;34m\u001b[0m\u001b[0m\n\u001b[1;32m     61\u001b[0m \u001b[0;34m\u001b[0m\u001b[0m\n\u001b[0;32m---> 62\u001b[0;31m         \u001b[0mevals\u001b[0m \u001b[0;34m=\u001b[0m \u001b[0mevaluate_model\u001b[0m\u001b[0;34m(\u001b[0m\u001b[0mTEST_PATH\u001b[0m\u001b[0;34m,\u001b[0m\u001b[0mtag_values\u001b[0m\u001b[0;34m)\u001b[0m\u001b[0;34m\u001b[0m\u001b[0;34m\u001b[0m\u001b[0m\n\u001b[0m\u001b[1;32m     63\u001b[0m \u001b[0;34m\u001b[0m\u001b[0m\n\u001b[1;32m     64\u001b[0m         \u001b[0mhistory\u001b[0m\u001b[0;34m[\u001b[0m\u001b[0;34m\"test_confusion_matrix\"\u001b[0m\u001b[0;34m]\u001b[0m\u001b[0;34m.\u001b[0m\u001b[0mappend\u001b[0m\u001b[0;34m(\u001b[0m \u001b[0mevals\u001b[0m\u001b[0;34m[\u001b[0m\u001b[0;34m'confusion matrix'\u001b[0m\u001b[0;34m]\u001b[0m \u001b[0;34m)\u001b[0m\u001b[0;34m\u001b[0m\u001b[0;34m\u001b[0m\u001b[0m\n",
            "\u001b[0;32m<ipython-input-14-43197794e053>\u001b[0m in \u001b[0;36mevaluate_model\u001b[0;34m(PATH, tag_values, assert_data_validity)\u001b[0m\n\u001b[1;32m     54\u001b[0m                 \u001b[0mcnf_matrix\u001b[0m\u001b[0;34m[\u001b[0m\u001b[0mtag2idx\u001b[0m\u001b[0;34m[\u001b[0m\u001b[0mtest_label\u001b[0m\u001b[0;34m[\u001b[0m\u001b[0mptr\u001b[0m\u001b[0;34m-\u001b[0m\u001b[0;36m1\u001b[0m\u001b[0;34m]\u001b[0m\u001b[0;34m]\u001b[0m\u001b[0;34m]\u001b[0m\u001b[0;34m[\u001b[0m\u001b[0mnp\u001b[0m\u001b[0;34m.\u001b[0m\u001b[0margmax\u001b[0m\u001b[0;34m(\u001b[0m\u001b[0mcount_labels\u001b[0m\u001b[0;34m)\u001b[0m\u001b[0;34m]\u001b[0m \u001b[0;34m+=\u001b[0m \u001b[0;36m1\u001b[0m\u001b[0;34m\u001b[0m\u001b[0;34m\u001b[0m\u001b[0m\n\u001b[1;32m     55\u001b[0m                 \u001b[0mcount_labels\u001b[0m \u001b[0;34m=\u001b[0m \u001b[0mnp\u001b[0m\u001b[0;34m.\u001b[0m\u001b[0mzeros\u001b[0m\u001b[0;34m(\u001b[0m\u001b[0;34m(\u001b[0m\u001b[0;36m4\u001b[0m\u001b[0;34m,\u001b[0m\u001b[0;34m)\u001b[0m\u001b[0;34m)\u001b[0m\u001b[0;34m\u001b[0m\u001b[0;34m\u001b[0m\u001b[0m\n\u001b[0;32m---> 56\u001b[0;31m             \u001b[0mchecker\u001b[0m\u001b[0;34m[\u001b[0m\u001b[0mptr\u001b[0m\u001b[0;34m]\u001b[0m \u001b[0;34m=\u001b[0m \u001b[0mchecker\u001b[0m\u001b[0;34m[\u001b[0m\u001b[0mptr\u001b[0m\u001b[0;34m]\u001b[0m\u001b[0;34m[\u001b[0m\u001b[0mchecker\u001b[0m\u001b[0;34m[\u001b[0m\u001b[0mptr\u001b[0m\u001b[0;34m]\u001b[0m\u001b[0;34m.\u001b[0m\u001b[0mfind\u001b[0m\u001b[0;34m(\u001b[0m\u001b[0mrv_sentence\u001b[0m\u001b[0;34m[\u001b[0m\u001b[0mr\u001b[0m\u001b[0;34m]\u001b[0m\u001b[0;34m)\u001b[0m\u001b[0;34m+\u001b[0m\u001b[0mlen\u001b[0m\u001b[0;34m(\u001b[0m\u001b[0mrv_sentence\u001b[0m\u001b[0;34m[\u001b[0m\u001b[0mr\u001b[0m\u001b[0;34m]\u001b[0m\u001b[0;34m)\u001b[0m\u001b[0;34m:\u001b[0m\u001b[0;34m]\u001b[0m\u001b[0;34m\u001b[0m\u001b[0;34m\u001b[0m\u001b[0m\n\u001b[0m\u001b[1;32m     57\u001b[0m             \u001b[0mcount_labels\u001b[0m\u001b[0;34m[\u001b[0m\u001b[0mtag2idx\u001b[0m\u001b[0;34m[\u001b[0m\u001b[0mrv_label\u001b[0m\u001b[0;34m[\u001b[0m\u001b[0mr\u001b[0m\u001b[0;34m]\u001b[0m\u001b[0;34m]\u001b[0m\u001b[0;34m]\u001b[0m \u001b[0;34m+=\u001b[0m \u001b[0;36m1\u001b[0m\u001b[0;34m\u001b[0m\u001b[0;34m\u001b[0m\u001b[0m\n\u001b[1;32m     58\u001b[0m         \u001b[0mcnf_matrix\u001b[0m\u001b[0;34m[\u001b[0m\u001b[0mtag2idx\u001b[0m\u001b[0;34m[\u001b[0m\u001b[0mtest_label\u001b[0m\u001b[0;34m[\u001b[0m\u001b[0mptr\u001b[0m\u001b[0;34m-\u001b[0m\u001b[0;36m1\u001b[0m\u001b[0;34m]\u001b[0m\u001b[0;34m]\u001b[0m\u001b[0;34m]\u001b[0m\u001b[0;34m[\u001b[0m\u001b[0mnp\u001b[0m\u001b[0;34m.\u001b[0m\u001b[0margmax\u001b[0m\u001b[0;34m(\u001b[0m\u001b[0mcount_labels\u001b[0m\u001b[0;34m)\u001b[0m\u001b[0;34m]\u001b[0m \u001b[0;34m+=\u001b[0m \u001b[0;36m1\u001b[0m\u001b[0;34m\u001b[0m\u001b[0;34m\u001b[0m\u001b[0m\n",
            "\u001b[0;31mIndexError\u001b[0m: list index out of range"
          ]
        },
        {
          "output_type": "display_data",
          "data": {
            "text/plain": [
              "<Figure size 237.6x237.6 with 1 Axes>"
            ],
            "image/png": "[encoded data removed]"
          },
          "metadata": {
            "needs_background": "light"
          }
        }
      ]
    },
    {
      "cell_type": "code",
      "source": [
        "print_training_results(history)"
      ],
      "metadata": {
        "id": "NMI94-GijthU",
        "execution": {
          "iopub.status.busy": "2022-04-05T06:11:21.320217Z",
          "iopub.execute_input": "2022-04-05T06:11:21.320764Z",
          "iopub.status.idle": "2022-04-05T06:11:21.328053Z",
          "shell.execute_reply.started": "2022-04-05T06:11:21.320723Z",
          "shell.execute_reply": "2022-04-05T06:11:21.32722Z"
        },
        "trusted": true
      },
      "execution_count": null,
      "outputs": []
    },
    {
      "cell_type": "markdown",
      "source": [
        "##### BioELECTRA"
      ],
      "metadata": {
        "id": "DHuBp5KHR09x"
      }
    },
    {
      "cell_type": "code",
      "source": [
        "class Token_Classifier_From_BioElectra(torch.nn.Module):\n",
        "  def __init__(self,base,classes = 4):\n",
        "    super().__init__()\n",
        "    self.n_classes = classes\n",
        "    self.base = base.electra\n",
        "    self.intermediate = base.discriminator_predictions.dense\n",
        "    self.dropout = torch.nn.Dropout(p=0.1, inplace=False)\n",
        "    self.classifier = torch.nn.Linear(in_features=768, out_features=classes, bias=True)\n",
        "    self.criterion = torch.nn.CrossEntropyLoss()\n",
        "\n",
        "  def forward(self,bert_input,attention_mask,token_type_ids = None,labels = None):\n",
        "    out = self.base(bert_input,attention_mask = attention_mask,token_type_ids = None).__getitem__(0)\n",
        "    out = self.intermediate(out)\n",
        "    out = self.dropout(out)\n",
        "    out = self.classifier(out)\n",
        "    if labels is None:\n",
        "      return out\n",
        "    else:\n",
        "      return (self.criterion(out.reshape(-1,4),labels.reshape(-1)),out)"
      ],
      "metadata": {
        "execution": {
          "iopub.status.busy": "2022-04-05T06:11:21.32923Z",
          "iopub.execute_input": "2022-04-05T06:11:21.33007Z",
          "iopub.status.idle": "2022-04-05T06:11:21.341477Z",
          "shell.execute_reply.started": "2022-04-05T06:11:21.330032Z",
          "shell.execute_reply": "2022-04-05T06:11:21.340629Z"
        },
        "id": "ADFzrG-ZR09x",
        "trusted": true
      },
      "execution_count": null,
      "outputs": []
    },
    {
      "cell_type": "code",
      "source": [
        "from transformers import ElectraForPreTraining, ElectraTokenizerFast\n",
        "\n",
        "base_model = ElectraForPreTraining.from_pretrained(\"kamalkraj/bioelectra-base-discriminator-pubmed\")\n",
        "tokenizer = ElectraTokenizerFast.from_pretrained(\"kamalkraj/bioelectra-base-discriminator-pubmed\")\n",
        "model = Token_Classifier_From_BioElectra(base_model,4)"
      ],
      "metadata": {
        "execution": {
          "iopub.status.busy": "2022-04-05T06:11:21.343693Z",
          "iopub.execute_input": "2022-04-05T06:11:21.344282Z",
          "iopub.status.idle": "2022-04-05T06:11:38.215308Z",
          "shell.execute_reply.started": "2022-04-05T06:11:21.344238Z",
          "shell.execute_reply": "2022-04-05T06:11:38.214549Z"
        },
        "id": "TMbC1rE7R09x",
        "trusted": true
      },
      "execution_count": null,
      "outputs": []
    },
    {
      "cell_type": "code",
      "source": [
        "sentences = saved_sentences\n",
        "labels = saved_labels\n",
        "\n",
        "sentences,labels = get_tokenized_sentences_and_labels(sentences,labels,tokenizer)\n",
        "normalize_longer_sequences()\n",
        "\n",
        "for i,j in zip(sentences,labels):\n",
        "  assert(len(i) == len(j))\n",
        "\n",
        "input_ids = pad_sequences([tokenizer.convert_tokens_to_ids(txt) for txt in sentences],\n",
        "                          maxlen=MAX_LEN, dtype=\"long\", value=0.0,\n",
        "                          truncating=\"post\", padding=\"post\")\n",
        "\n",
        "tags = pad_sequences([[tag2idx.get(l) for l in lab] for lab in labels],\n",
        "                     maxlen=MAX_LEN, value=tag2idx[\"PAD\"], padding=\"post\",\n",
        "                     dtype=\"long\", truncating=\"post\")\n",
        "\n",
        "attention_masks = [[float(i != 0.0) for i in ii] for ii in input_ids]\n",
        "\n",
        "tr_inputs, tr_tags, tr_masks = input_ids, tags, attention_masks\n",
        "\n",
        "tr_inputs = torch.tensor(tr_inputs)\n",
        "tr_tags = torch.tensor(tr_tags)\n",
        "tr_masks = torch.tensor(tr_masks)\n",
        "\n",
        "train_data = TensorDataset(tr_inputs, tr_masks, tr_tags)\n",
        "train_sampler = RandomSampler(train_data)\n",
        "train_dataloader = DataLoader(train_data, sampler=train_sampler, batch_size=batch_size)"
      ],
      "metadata": {
        "execution": {
          "iopub.status.busy": "2022-04-05T06:11:38.216439Z",
          "iopub.execute_input": "2022-04-05T06:11:38.216693Z",
          "iopub.status.idle": "2022-04-05T06:11:56.430675Z",
          "shell.execute_reply.started": "2022-04-05T06:11:38.216661Z",
          "shell.execute_reply": "2022-04-05T06:11:56.429954Z"
        },
        "id": "ikSl0TesR09x",
        "trusted": true
      },
      "execution_count": null,
      "outputs": []
    },
    {
      "cell_type": "code",
      "source": [
        "FULL_FINETUNING = True\n",
        "\n",
        "#######################################\n",
        "if FULL_FINETUNING:\n",
        "    param_optimizer = list(model.named_parameters())\n",
        "    no_decay = ['bias', 'gamma', 'beta']\n",
        "    optimizer_grouped_parameters = [\n",
        "        {'params': [p for n, p in param_optimizer if not any(nd in n for nd in no_decay)],\n",
        "         'weight_decay_rate': 0.01},\n",
        "        {'params': [p for n, p in param_optimizer if any(nd in n for nd in no_decay)],\n",
        "         'weight_decay_rate': 0.0}\n",
        "    ]\n",
        "else:\n",
        "    param_optimizer = list(model.classifier.named_parameters())\n",
        "    optimizer_grouped_parameters = [{\"params\": [p for n, p in param_optimizer]}]\n",
        "\n",
        "optimizer = AdamW(\n",
        "    optimizer_grouped_parameters,\n",
        "    lr=3e-5,\n",
        "    eps=1e-8\n",
        ")"
      ],
      "metadata": {
        "execution": {
          "iopub.status.busy": "2022-04-05T06:11:56.432124Z",
          "iopub.execute_input": "2022-04-05T06:11:56.432374Z",
          "iopub.status.idle": "2022-04-05T06:11:56.441428Z",
          "shell.execute_reply.started": "2022-04-05T06:11:56.43234Z",
          "shell.execute_reply": "2022-04-05T06:11:56.440757Z"
        },
        "id": "rfSDYMC2R09y",
        "trusted": true
      },
      "execution_count": null,
      "outputs": []
    },
    {
      "cell_type": "code",
      "source": [
        "epochs = 100\n",
        "max_grad_norm = 1.0\n",
        "\n",
        "#############################################\n",
        "\n",
        "total_steps = len(train_dataloader) * epochs\n",
        "scheduler = get_linear_schedule_with_warmup(\n",
        "    optimizer,\n",
        "    num_warmup_steps=0,\n",
        "    num_training_steps=total_steps\n",
        ")"
      ],
      "metadata": {
        "execution": {
          "iopub.status.busy": "2022-04-05T06:11:56.443067Z",
          "iopub.execute_input": "2022-04-05T06:11:56.443608Z",
          "iopub.status.idle": "2022-04-05T06:11:56.459006Z",
          "shell.execute_reply.started": "2022-04-05T06:11:56.443569Z",
          "shell.execute_reply": "2022-04-05T06:11:56.4581Z"
        },
        "id": "LJV98KpiR09y",
        "trusted": true
      },
      "execution_count": null,
      "outputs": []
    },
    {
      "cell_type": "code",
      "source": [
        "class_weight = [np.sum(np.array([np.sum(np.array(j) == tag2idx[w]) for j in tags])) for w in tag_values]\n",
        "class_weight = 1 / np.array(class_weight,dtype = np.float32)\n",
        "class_weight = np.array(class_weight) / np.array(class_weight).sum()\n",
        "\n",
        "criterion = torch.nn.CrossEntropyLoss(weight=torch.tensor(class_weight).to(\"cuda\" if torch.cuda.is_available() else \"cpu\"))"
      ],
      "metadata": {
        "execution": {
          "iopub.status.busy": "2022-04-05T06:11:56.46128Z",
          "iopub.execute_input": "2022-04-05T06:11:56.461739Z",
          "iopub.status.idle": "2022-04-05T06:11:57.036219Z",
          "shell.execute_reply.started": "2022-04-05T06:11:56.46167Z",
          "shell.execute_reply": "2022-04-05T06:11:57.035258Z"
        },
        "id": "A5bCtd5bR09y",
        "trusted": true
      },
      "execution_count": null,
      "outputs": []
    },
    {
      "cell_type": "code",
      "source": [
        "try :\n",
        "    os.mkdir(\"BIO_ELECTRA\")\n",
        "except:\n",
        "    pass"
      ],
      "metadata": {
        "execution": {
          "iopub.status.busy": "2022-04-05T06:11:57.037603Z",
          "iopub.execute_input": "2022-04-05T06:11:57.037879Z",
          "iopub.status.idle": "2022-04-05T06:11:57.042539Z",
          "shell.execute_reply.started": "2022-04-05T06:11:57.037842Z",
          "shell.execute_reply": "2022-04-05T06:11:57.041701Z"
        },
        "id": "nvfeG-LkR09y",
        "trusted": true
      },
      "execution_count": null,
      "outputs": []
    },
    {
      "cell_type": "code",
      "source": [
        "history = finetune_procedure_bert_for_ner(model,epochs,train_dataloader,optimizer,criterion,scheduler,max_grad_norm,early_stopping = True,patience = 15,PATH = \"BIO_ELECTRA/state_dict\")"
      ],
      "metadata": {
        "execution": {
          "iopub.status.busy": "2022-04-05T06:11:57.044071Z",
          "iopub.execute_input": "2022-04-05T06:11:57.044335Z"
        },
        "id": "5AdQ1B5gR09z",
        "trusted": true
      },
      "execution_count": null,
      "outputs": []
    },
    {
      "cell_type": "code",
      "source": [
        "print_training_results(history)"
      ],
      "metadata": {
        "id": "dV3HJ_Q8R09z",
        "trusted": true
      },
      "execution_count": null,
      "outputs": []
    },
    {
      "cell_type": "markdown",
      "source": [
        "## Prediction"
      ],
      "metadata": {
        "id": "ftxBpLqOTvCc"
      }
    },
    {
      "cell_type": "markdown",
      "source": [
        "### Predictions"
      ],
      "metadata": {
        "id": "5Yvy-pEt2HCh"
      }
    },
    {
      "cell_type": "code",
      "source": [
        "%%time\n",
        "PATH = \"/content/drive/MyDrive/CMED/Data/trainingdata_v3/dev/100-01.txt\"\n",
        "\n",
        "sentences,labels,word_span_dataframe = get_ner_predictions(PATH,model,tokenizer,tag_values,True)"
      ],
      "metadata": {
        "id": "ECpGuOcg0hSC",
        "execution": {
          "iopub.status.busy": "2022-04-06T11:18:12.813363Z",
          "iopub.execute_input": "2022-04-06T11:18:12.814197Z",
          "iopub.status.idle": "2022-04-06T11:18:12.988338Z",
          "shell.execute_reply.started": "2022-04-06T11:18:12.814158Z",
          "shell.execute_reply": "2022-04-06T11:18:12.98751Z"
        },
        "trusted": true
      },
      "execution_count": null,
      "outputs": []
    }
  ]
}